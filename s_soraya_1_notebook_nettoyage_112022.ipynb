{
 "cells": [
  {
   "cell_type": "code",
   "execution_count": 353,
   "id": "4d1171f2",
   "metadata": {},
   "outputs": [],
   "source": [
    "import numpy as np\n",
    "import pandas as pd\n",
    "import matplotlib as mpl\n",
    "import matplotlib.pyplot as plt\n",
    "import seaborn as sns\n",
    "import sys\n",
    "from sklearn.model_selection import train_test_split\n",
    "from ipywidgets import interact, interact_manual\n",
    "import os\n",
    "import io\n",
    "import re\n",
    "%matplotlib inline\n",
    "plt.rcParams['figure.facecolor']='w'\n",
    "from ipywidgets import interact, interact_manual\n",
    "from sklearn.impute import SimpleImputer\n",
    "from sklearn.neighbors import KNeighborsRegressor, KNeighborsClassifier\n",
    "from sklearn.model_selection import StratifiedKFold\n",
    "from sklearn import metrics\n",
    "from sklearn.dummy import DummyRegressor, DummyClassifier\n",
    "from sklearn.preprocessing import StandardScaler, LabelEncoder"
   ]
  },
  {
   "cell_type": "markdown",
   "id": "cb8b225c",
   "metadata": {},
   "source": [
    " **Chargement des données**"
   ]
  },
  {
   "cell_type": "code",
   "execution_count": 354,
   "id": "25da7f2a",
   "metadata": {},
   "outputs": [],
   "source": [
    "data = pd.read_csv('fr.openfoodfacts.org.products.csv', sep='\\t', low_memory=False)"
   ]
  },
  {
   "cell_type": "markdown",
   "id": "d2577d4a",
   "metadata": {},
   "source": [
    "# Description du jeu de données"
   ]
  },
  {
   "cell_type": "code",
   "execution_count": 355,
   "id": "66c4517c",
   "metadata": {},
   "outputs": [
    {
     "data": {
      "text/plain": [
       "(320772, 162)"
      ]
     },
     "execution_count": 355,
     "metadata": {},
     "output_type": "execute_result"
    }
   ],
   "source": [
    "data.shape"
   ]
  },
  {
   "cell_type": "code",
   "execution_count": 356,
   "id": "13c0be91",
   "metadata": {},
   "outputs": [
    {
     "data": {
      "text/plain": [
       "code                        object\n",
       "url                         object\n",
       "creator                     object\n",
       "created_t                   object\n",
       "created_datetime            object\n",
       "                            ...   \n",
       "carbon-footprint_100g      float64\n",
       "nutrition-score-fr_100g    float64\n",
       "nutrition-score-uk_100g    float64\n",
       "glycemic-index_100g        float64\n",
       "water-hardness_100g        float64\n",
       "Length: 162, dtype: object"
      ]
     },
     "execution_count": 356,
     "metadata": {},
     "output_type": "execute_result"
    }
   ],
   "source": [
    "data.dtypes"
   ]
  },
  {
   "cell_type": "code",
   "execution_count": 357,
   "id": "1725c0c7",
   "metadata": {},
   "outputs": [
    {
     "data": {
      "text/html": [
       "<div>\n",
       "<style scoped>\n",
       "    .dataframe tbody tr th:only-of-type {\n",
       "        vertical-align: middle;\n",
       "    }\n",
       "\n",
       "    .dataframe tbody tr th {\n",
       "        vertical-align: top;\n",
       "    }\n",
       "\n",
       "    .dataframe thead th {\n",
       "        text-align: right;\n",
       "    }\n",
       "</style>\n",
       "<table border=\"1\" class=\"dataframe\">\n",
       "  <thead>\n",
       "    <tr style=\"text-align: right;\">\n",
       "      <th></th>\n",
       "      <th>code</th>\n",
       "      <th>url</th>\n",
       "      <th>creator</th>\n",
       "      <th>created_t</th>\n",
       "      <th>created_datetime</th>\n",
       "      <th>last_modified_t</th>\n",
       "      <th>last_modified_datetime</th>\n",
       "      <th>product_name</th>\n",
       "      <th>generic_name</th>\n",
       "      <th>quantity</th>\n",
       "      <th>...</th>\n",
       "      <th>ph_100g</th>\n",
       "      <th>fruits-vegetables-nuts_100g</th>\n",
       "      <th>collagen-meat-protein-ratio_100g</th>\n",
       "      <th>cocoa_100g</th>\n",
       "      <th>chlorophyl_100g</th>\n",
       "      <th>carbon-footprint_100g</th>\n",
       "      <th>nutrition-score-fr_100g</th>\n",
       "      <th>nutrition-score-uk_100g</th>\n",
       "      <th>glycemic-index_100g</th>\n",
       "      <th>water-hardness_100g</th>\n",
       "    </tr>\n",
       "  </thead>\n",
       "  <tbody>\n",
       "    <tr>\n",
       "      <th>21309</th>\n",
       "      <td>0024182210453</td>\n",
       "      <td>http://world-fr.openfoodfacts.org/produit/0024...</td>\n",
       "      <td>usda-ndb-import</td>\n",
       "      <td>1489065892</td>\n",
       "      <td>2017-03-09T13:24:52Z</td>\n",
       "      <td>1489065892</td>\n",
       "      <td>2017-03-09T13:24:52Z</td>\n",
       "      <td>Brown Rice Udon, Wheat Pasta With Brown Rice</td>\n",
       "      <td>NaN</td>\n",
       "      <td>NaN</td>\n",
       "      <td>...</td>\n",
       "      <td>NaN</td>\n",
       "      <td>NaN</td>\n",
       "      <td>NaN</td>\n",
       "      <td>NaN</td>\n",
       "      <td>NaN</td>\n",
       "      <td>NaN</td>\n",
       "      <td>9.0</td>\n",
       "      <td>9.0</td>\n",
       "      <td>NaN</td>\n",
       "      <td>NaN</td>\n",
       "    </tr>\n",
       "    <tr>\n",
       "      <th>5542</th>\n",
       "      <td>0011150111720</td>\n",
       "      <td>http://world-fr.openfoodfacts.org/produit/0011...</td>\n",
       "      <td>usda-ndb-import</td>\n",
       "      <td>1489053591</td>\n",
       "      <td>2017-03-09T09:59:51Z</td>\n",
       "      <td>1489053591</td>\n",
       "      <td>2017-03-09T09:59:51Z</td>\n",
       "      <td>Lasagna Skillet Dinner</td>\n",
       "      <td>NaN</td>\n",
       "      <td>NaN</td>\n",
       "      <td>...</td>\n",
       "      <td>NaN</td>\n",
       "      <td>NaN</td>\n",
       "      <td>NaN</td>\n",
       "      <td>NaN</td>\n",
       "      <td>NaN</td>\n",
       "      <td>NaN</td>\n",
       "      <td>11.0</td>\n",
       "      <td>11.0</td>\n",
       "      <td>NaN</td>\n",
       "      <td>NaN</td>\n",
       "    </tr>\n",
       "    <tr>\n",
       "      <th>167805</th>\n",
       "      <td>0863209000154</td>\n",
       "      <td>http://world-fr.openfoodfacts.org/produit/0863...</td>\n",
       "      <td>usda-ndb-import</td>\n",
       "      <td>1489092406</td>\n",
       "      <td>2017-03-09T20:46:46Z</td>\n",
       "      <td>1489092406</td>\n",
       "      <td>2017-03-09T20:46:46Z</td>\n",
       "      <td>Superfood Cereal</td>\n",
       "      <td>NaN</td>\n",
       "      <td>NaN</td>\n",
       "      <td>...</td>\n",
       "      <td>NaN</td>\n",
       "      <td>NaN</td>\n",
       "      <td>NaN</td>\n",
       "      <td>NaN</td>\n",
       "      <td>NaN</td>\n",
       "      <td>NaN</td>\n",
       "      <td>11.0</td>\n",
       "      <td>11.0</td>\n",
       "      <td>NaN</td>\n",
       "      <td>NaN</td>\n",
       "    </tr>\n",
       "    <tr>\n",
       "      <th>288157</th>\n",
       "      <td>7610700001189</td>\n",
       "      <td>http://world-fr.openfoodfacts.org/produit/7610...</td>\n",
       "      <td>openfood-ch-import</td>\n",
       "      <td>1486495604</td>\n",
       "      <td>2017-02-07T19:26:44Z</td>\n",
       "      <td>1487255847</td>\n",
       "      <td>2017-02-16T14:37:27Z</td>\n",
       "      <td>Eucalyptus Bonbons aux herbes</td>\n",
       "      <td>NaN</td>\n",
       "      <td>50 g</td>\n",
       "      <td>...</td>\n",
       "      <td>NaN</td>\n",
       "      <td>NaN</td>\n",
       "      <td>NaN</td>\n",
       "      <td>NaN</td>\n",
       "      <td>NaN</td>\n",
       "      <td>NaN</td>\n",
       "      <td>2.0</td>\n",
       "      <td>2.0</td>\n",
       "      <td>NaN</td>\n",
       "      <td>NaN</td>\n",
       "    </tr>\n",
       "    <tr>\n",
       "      <th>32332</th>\n",
       "      <td>0036632037367</td>\n",
       "      <td>http://world-fr.openfoodfacts.org/produit/0036...</td>\n",
       "      <td>usda-ndb-import</td>\n",
       "      <td>1489056803</td>\n",
       "      <td>2017-03-09T10:53:23Z</td>\n",
       "      <td>1489056803</td>\n",
       "      <td>2017-03-09T10:53:23Z</td>\n",
       "      <td>Light &amp; Fit, Greek Nonfat Yogurt, Peach</td>\n",
       "      <td>NaN</td>\n",
       "      <td>NaN</td>\n",
       "      <td>...</td>\n",
       "      <td>NaN</td>\n",
       "      <td>NaN</td>\n",
       "      <td>NaN</td>\n",
       "      <td>NaN</td>\n",
       "      <td>NaN</td>\n",
       "      <td>NaN</td>\n",
       "      <td>-3.0</td>\n",
       "      <td>-3.0</td>\n",
       "      <td>NaN</td>\n",
       "      <td>NaN</td>\n",
       "    </tr>\n",
       "  </tbody>\n",
       "</table>\n",
       "<p>5 rows × 162 columns</p>\n",
       "</div>"
      ],
      "text/plain": [
       "                 code                                                url  \\\n",
       "21309   0024182210453  http://world-fr.openfoodfacts.org/produit/0024...   \n",
       "5542    0011150111720  http://world-fr.openfoodfacts.org/produit/0011...   \n",
       "167805  0863209000154  http://world-fr.openfoodfacts.org/produit/0863...   \n",
       "288157  7610700001189  http://world-fr.openfoodfacts.org/produit/7610...   \n",
       "32332   0036632037367  http://world-fr.openfoodfacts.org/produit/0036...   \n",
       "\n",
       "                   creator   created_t      created_datetime last_modified_t  \\\n",
       "21309      usda-ndb-import  1489065892  2017-03-09T13:24:52Z      1489065892   \n",
       "5542       usda-ndb-import  1489053591  2017-03-09T09:59:51Z      1489053591   \n",
       "167805     usda-ndb-import  1489092406  2017-03-09T20:46:46Z      1489092406   \n",
       "288157  openfood-ch-import  1486495604  2017-02-07T19:26:44Z      1487255847   \n",
       "32332      usda-ndb-import  1489056803  2017-03-09T10:53:23Z      1489056803   \n",
       "\n",
       "       last_modified_datetime                                  product_name  \\\n",
       "21309    2017-03-09T13:24:52Z  Brown Rice Udon, Wheat Pasta With Brown Rice   \n",
       "5542     2017-03-09T09:59:51Z                        Lasagna Skillet Dinner   \n",
       "167805   2017-03-09T20:46:46Z                              Superfood Cereal   \n",
       "288157   2017-02-16T14:37:27Z                 Eucalyptus Bonbons aux herbes   \n",
       "32332    2017-03-09T10:53:23Z       Light & Fit, Greek Nonfat Yogurt, Peach   \n",
       "\n",
       "       generic_name quantity  ... ph_100g fruits-vegetables-nuts_100g  \\\n",
       "21309           NaN      NaN  ...     NaN                         NaN   \n",
       "5542            NaN      NaN  ...     NaN                         NaN   \n",
       "167805          NaN      NaN  ...     NaN                         NaN   \n",
       "288157          NaN     50 g  ...     NaN                         NaN   \n",
       "32332           NaN      NaN  ...     NaN                         NaN   \n",
       "\n",
       "       collagen-meat-protein-ratio_100g cocoa_100g chlorophyl_100g  \\\n",
       "21309                               NaN        NaN             NaN   \n",
       "5542                                NaN        NaN             NaN   \n",
       "167805                              NaN        NaN             NaN   \n",
       "288157                              NaN        NaN             NaN   \n",
       "32332                               NaN        NaN             NaN   \n",
       "\n",
       "       carbon-footprint_100g nutrition-score-fr_100g nutrition-score-uk_100g  \\\n",
       "21309                    NaN                     9.0                     9.0   \n",
       "5542                     NaN                    11.0                    11.0   \n",
       "167805                   NaN                    11.0                    11.0   \n",
       "288157                   NaN                     2.0                     2.0   \n",
       "32332                    NaN                    -3.0                    -3.0   \n",
       "\n",
       "       glycemic-index_100g water-hardness_100g  \n",
       "21309                  NaN                 NaN  \n",
       "5542                   NaN                 NaN  \n",
       "167805                 NaN                 NaN  \n",
       "288157                 NaN                 NaN  \n",
       "32332                  NaN                 NaN  \n",
       "\n",
       "[5 rows x 162 columns]"
      ]
     },
     "execution_count": 357,
     "metadata": {},
     "output_type": "execute_result"
    }
   ],
   "source": [
    "data.sample(5)"
   ]
  },
  {
   "cell_type": "code",
   "execution_count": 358,
   "id": "d1477ee3",
   "metadata": {
    "scrolled": false
   },
   "outputs": [
    {
     "data": {
      "text/html": [
       "<div>\n",
       "<style scoped>\n",
       "    .dataframe tbody tr th:only-of-type {\n",
       "        vertical-align: middle;\n",
       "    }\n",
       "\n",
       "    .dataframe tbody tr th {\n",
       "        vertical-align: top;\n",
       "    }\n",
       "\n",
       "    .dataframe thead th {\n",
       "        text-align: right;\n",
       "    }\n",
       "</style>\n",
       "<table border=\"1\" class=\"dataframe\">\n",
       "  <thead>\n",
       "    <tr style=\"text-align: right;\">\n",
       "      <th></th>\n",
       "      <th>code</th>\n",
       "      <th>url</th>\n",
       "      <th>creator</th>\n",
       "      <th>created_t</th>\n",
       "      <th>created_datetime</th>\n",
       "      <th>last_modified_t</th>\n",
       "      <th>last_modified_datetime</th>\n",
       "      <th>product_name</th>\n",
       "      <th>generic_name</th>\n",
       "      <th>quantity</th>\n",
       "      <th>...</th>\n",
       "      <th>ph_100g</th>\n",
       "      <th>fruits-vegetables-nuts_100g</th>\n",
       "      <th>collagen-meat-protein-ratio_100g</th>\n",
       "      <th>cocoa_100g</th>\n",
       "      <th>chlorophyl_100g</th>\n",
       "      <th>carbon-footprint_100g</th>\n",
       "      <th>nutrition-score-fr_100g</th>\n",
       "      <th>nutrition-score-uk_100g</th>\n",
       "      <th>glycemic-index_100g</th>\n",
       "      <th>water-hardness_100g</th>\n",
       "    </tr>\n",
       "  </thead>\n",
       "  <tbody>\n",
       "    <tr>\n",
       "      <th>count</th>\n",
       "      <td>320749</td>\n",
       "      <td>320749</td>\n",
       "      <td>320770</td>\n",
       "      <td>320769</td>\n",
       "      <td>320763</td>\n",
       "      <td>320772</td>\n",
       "      <td>320772</td>\n",
       "      <td>303010</td>\n",
       "      <td>52795</td>\n",
       "      <td>104819</td>\n",
       "      <td>...</td>\n",
       "      <td>49.000000</td>\n",
       "      <td>3036.000000</td>\n",
       "      <td>165.000000</td>\n",
       "      <td>948.000000</td>\n",
       "      <td>0.0</td>\n",
       "      <td>268.000000</td>\n",
       "      <td>221210.000000</td>\n",
       "      <td>221210.000000</td>\n",
       "      <td>0.0</td>\n",
       "      <td>0.0</td>\n",
       "    </tr>\n",
       "    <tr>\n",
       "      <th>unique</th>\n",
       "      <td>320749</td>\n",
       "      <td>320749</td>\n",
       "      <td>3535</td>\n",
       "      <td>189567</td>\n",
       "      <td>189568</td>\n",
       "      <td>180495</td>\n",
       "      <td>180495</td>\n",
       "      <td>221347</td>\n",
       "      <td>38584</td>\n",
       "      <td>13826</td>\n",
       "      <td>...</td>\n",
       "      <td>NaN</td>\n",
       "      <td>NaN</td>\n",
       "      <td>NaN</td>\n",
       "      <td>NaN</td>\n",
       "      <td>NaN</td>\n",
       "      <td>NaN</td>\n",
       "      <td>NaN</td>\n",
       "      <td>NaN</td>\n",
       "      <td>NaN</td>\n",
       "      <td>NaN</td>\n",
       "    </tr>\n",
       "    <tr>\n",
       "      <th>top</th>\n",
       "      <td>0000000003087</td>\n",
       "      <td>http://world-fr.openfoodfacts.org/produit/0000...</td>\n",
       "      <td>usda-ndb-import</td>\n",
       "      <td>1489077120</td>\n",
       "      <td>2017-03-09T10:37:09Z</td>\n",
       "      <td>1439141742</td>\n",
       "      <td>2015-08-09T17:35:42Z</td>\n",
       "      <td>Ice Cream</td>\n",
       "      <td>Pâtes alimentaires au blé dur de qualité supér...</td>\n",
       "      <td>500 g</td>\n",
       "      <td>...</td>\n",
       "      <td>NaN</td>\n",
       "      <td>NaN</td>\n",
       "      <td>NaN</td>\n",
       "      <td>NaN</td>\n",
       "      <td>NaN</td>\n",
       "      <td>NaN</td>\n",
       "      <td>NaN</td>\n",
       "      <td>NaN</td>\n",
       "      <td>NaN</td>\n",
       "      <td>NaN</td>\n",
       "    </tr>\n",
       "    <tr>\n",
       "      <th>freq</th>\n",
       "      <td>1</td>\n",
       "      <td>1</td>\n",
       "      <td>169868</td>\n",
       "      <td>20</td>\n",
       "      <td>20</td>\n",
       "      <td>33</td>\n",
       "      <td>33</td>\n",
       "      <td>410</td>\n",
       "      <td>201</td>\n",
       "      <td>4669</td>\n",
       "      <td>...</td>\n",
       "      <td>NaN</td>\n",
       "      <td>NaN</td>\n",
       "      <td>NaN</td>\n",
       "      <td>NaN</td>\n",
       "      <td>NaN</td>\n",
       "      <td>NaN</td>\n",
       "      <td>NaN</td>\n",
       "      <td>NaN</td>\n",
       "      <td>NaN</td>\n",
       "      <td>NaN</td>\n",
       "    </tr>\n",
       "    <tr>\n",
       "      <th>mean</th>\n",
       "      <td>NaN</td>\n",
       "      <td>NaN</td>\n",
       "      <td>NaN</td>\n",
       "      <td>NaN</td>\n",
       "      <td>NaN</td>\n",
       "      <td>NaN</td>\n",
       "      <td>NaN</td>\n",
       "      <td>NaN</td>\n",
       "      <td>NaN</td>\n",
       "      <td>NaN</td>\n",
       "      <td>...</td>\n",
       "      <td>6.425698</td>\n",
       "      <td>31.458587</td>\n",
       "      <td>15.412121</td>\n",
       "      <td>49.547785</td>\n",
       "      <td>NaN</td>\n",
       "      <td>341.700764</td>\n",
       "      <td>9.165535</td>\n",
       "      <td>9.058049</td>\n",
       "      <td>NaN</td>\n",
       "      <td>NaN</td>\n",
       "    </tr>\n",
       "    <tr>\n",
       "      <th>std</th>\n",
       "      <td>NaN</td>\n",
       "      <td>NaN</td>\n",
       "      <td>NaN</td>\n",
       "      <td>NaN</td>\n",
       "      <td>NaN</td>\n",
       "      <td>NaN</td>\n",
       "      <td>NaN</td>\n",
       "      <td>NaN</td>\n",
       "      <td>NaN</td>\n",
       "      <td>NaN</td>\n",
       "      <td>...</td>\n",
       "      <td>2.047841</td>\n",
       "      <td>31.967918</td>\n",
       "      <td>3.753028</td>\n",
       "      <td>18.757932</td>\n",
       "      <td>NaN</td>\n",
       "      <td>425.211439</td>\n",
       "      <td>9.055903</td>\n",
       "      <td>9.183589</td>\n",
       "      <td>NaN</td>\n",
       "      <td>NaN</td>\n",
       "    </tr>\n",
       "    <tr>\n",
       "      <th>min</th>\n",
       "      <td>NaN</td>\n",
       "      <td>NaN</td>\n",
       "      <td>NaN</td>\n",
       "      <td>NaN</td>\n",
       "      <td>NaN</td>\n",
       "      <td>NaN</td>\n",
       "      <td>NaN</td>\n",
       "      <td>NaN</td>\n",
       "      <td>NaN</td>\n",
       "      <td>NaN</td>\n",
       "      <td>...</td>\n",
       "      <td>0.000000</td>\n",
       "      <td>0.000000</td>\n",
       "      <td>8.000000</td>\n",
       "      <td>6.000000</td>\n",
       "      <td>NaN</td>\n",
       "      <td>0.000000</td>\n",
       "      <td>-15.000000</td>\n",
       "      <td>-15.000000</td>\n",
       "      <td>NaN</td>\n",
       "      <td>NaN</td>\n",
       "    </tr>\n",
       "    <tr>\n",
       "      <th>25%</th>\n",
       "      <td>NaN</td>\n",
       "      <td>NaN</td>\n",
       "      <td>NaN</td>\n",
       "      <td>NaN</td>\n",
       "      <td>NaN</td>\n",
       "      <td>NaN</td>\n",
       "      <td>NaN</td>\n",
       "      <td>NaN</td>\n",
       "      <td>NaN</td>\n",
       "      <td>NaN</td>\n",
       "      <td>...</td>\n",
       "      <td>6.300000</td>\n",
       "      <td>0.000000</td>\n",
       "      <td>12.000000</td>\n",
       "      <td>32.000000</td>\n",
       "      <td>NaN</td>\n",
       "      <td>98.750000</td>\n",
       "      <td>1.000000</td>\n",
       "      <td>1.000000</td>\n",
       "      <td>NaN</td>\n",
       "      <td>NaN</td>\n",
       "    </tr>\n",
       "    <tr>\n",
       "      <th>50%</th>\n",
       "      <td>NaN</td>\n",
       "      <td>NaN</td>\n",
       "      <td>NaN</td>\n",
       "      <td>NaN</td>\n",
       "      <td>NaN</td>\n",
       "      <td>NaN</td>\n",
       "      <td>NaN</td>\n",
       "      <td>NaN</td>\n",
       "      <td>NaN</td>\n",
       "      <td>NaN</td>\n",
       "      <td>...</td>\n",
       "      <td>7.200000</td>\n",
       "      <td>23.000000</td>\n",
       "      <td>15.000000</td>\n",
       "      <td>50.000000</td>\n",
       "      <td>NaN</td>\n",
       "      <td>195.750000</td>\n",
       "      <td>10.000000</td>\n",
       "      <td>9.000000</td>\n",
       "      <td>NaN</td>\n",
       "      <td>NaN</td>\n",
       "    </tr>\n",
       "    <tr>\n",
       "      <th>75%</th>\n",
       "      <td>NaN</td>\n",
       "      <td>NaN</td>\n",
       "      <td>NaN</td>\n",
       "      <td>NaN</td>\n",
       "      <td>NaN</td>\n",
       "      <td>NaN</td>\n",
       "      <td>NaN</td>\n",
       "      <td>NaN</td>\n",
       "      <td>NaN</td>\n",
       "      <td>NaN</td>\n",
       "      <td>...</td>\n",
       "      <td>7.400000</td>\n",
       "      <td>51.000000</td>\n",
       "      <td>15.000000</td>\n",
       "      <td>64.250000</td>\n",
       "      <td>NaN</td>\n",
       "      <td>383.200000</td>\n",
       "      <td>16.000000</td>\n",
       "      <td>16.000000</td>\n",
       "      <td>NaN</td>\n",
       "      <td>NaN</td>\n",
       "    </tr>\n",
       "    <tr>\n",
       "      <th>max</th>\n",
       "      <td>NaN</td>\n",
       "      <td>NaN</td>\n",
       "      <td>NaN</td>\n",
       "      <td>NaN</td>\n",
       "      <td>NaN</td>\n",
       "      <td>NaN</td>\n",
       "      <td>NaN</td>\n",
       "      <td>NaN</td>\n",
       "      <td>NaN</td>\n",
       "      <td>NaN</td>\n",
       "      <td>...</td>\n",
       "      <td>8.400000</td>\n",
       "      <td>100.000000</td>\n",
       "      <td>25.000000</td>\n",
       "      <td>100.000000</td>\n",
       "      <td>NaN</td>\n",
       "      <td>2842.000000</td>\n",
       "      <td>40.000000</td>\n",
       "      <td>40.000000</td>\n",
       "      <td>NaN</td>\n",
       "      <td>NaN</td>\n",
       "    </tr>\n",
       "  </tbody>\n",
       "</table>\n",
       "<p>11 rows × 162 columns</p>\n",
       "</div>"
      ],
      "text/plain": [
       "                 code                                                url  \\\n",
       "count          320749                                             320749   \n",
       "unique         320749                                             320749   \n",
       "top     0000000003087  http://world-fr.openfoodfacts.org/produit/0000...   \n",
       "freq                1                                                  1   \n",
       "mean              NaN                                                NaN   \n",
       "std               NaN                                                NaN   \n",
       "min               NaN                                                NaN   \n",
       "25%               NaN                                                NaN   \n",
       "50%               NaN                                                NaN   \n",
       "75%               NaN                                                NaN   \n",
       "max               NaN                                                NaN   \n",
       "\n",
       "                creator   created_t      created_datetime last_modified_t  \\\n",
       "count            320770      320769                320763          320772   \n",
       "unique             3535      189567                189568          180495   \n",
       "top     usda-ndb-import  1489077120  2017-03-09T10:37:09Z      1439141742   \n",
       "freq             169868          20                    20              33   \n",
       "mean                NaN         NaN                   NaN             NaN   \n",
       "std                 NaN         NaN                   NaN             NaN   \n",
       "min                 NaN         NaN                   NaN             NaN   \n",
       "25%                 NaN         NaN                   NaN             NaN   \n",
       "50%                 NaN         NaN                   NaN             NaN   \n",
       "75%                 NaN         NaN                   NaN             NaN   \n",
       "max                 NaN         NaN                   NaN             NaN   \n",
       "\n",
       "       last_modified_datetime product_name  \\\n",
       "count                  320772       303010   \n",
       "unique                 180495       221347   \n",
       "top      2015-08-09T17:35:42Z    Ice Cream   \n",
       "freq                       33          410   \n",
       "mean                      NaN          NaN   \n",
       "std                       NaN          NaN   \n",
       "min                       NaN          NaN   \n",
       "25%                       NaN          NaN   \n",
       "50%                       NaN          NaN   \n",
       "75%                       NaN          NaN   \n",
       "max                       NaN          NaN   \n",
       "\n",
       "                                             generic_name quantity  ...  \\\n",
       "count                                               52795   104819  ...   \n",
       "unique                                              38584    13826  ...   \n",
       "top     Pâtes alimentaires au blé dur de qualité supér...    500 g  ...   \n",
       "freq                                                  201     4669  ...   \n",
       "mean                                                  NaN      NaN  ...   \n",
       "std                                                   NaN      NaN  ...   \n",
       "min                                                   NaN      NaN  ...   \n",
       "25%                                                   NaN      NaN  ...   \n",
       "50%                                                   NaN      NaN  ...   \n",
       "75%                                                   NaN      NaN  ...   \n",
       "max                                                   NaN      NaN  ...   \n",
       "\n",
       "          ph_100g fruits-vegetables-nuts_100g  \\\n",
       "count   49.000000                 3036.000000   \n",
       "unique        NaN                         NaN   \n",
       "top           NaN                         NaN   \n",
       "freq          NaN                         NaN   \n",
       "mean     6.425698                   31.458587   \n",
       "std      2.047841                   31.967918   \n",
       "min      0.000000                    0.000000   \n",
       "25%      6.300000                    0.000000   \n",
       "50%      7.200000                   23.000000   \n",
       "75%      7.400000                   51.000000   \n",
       "max      8.400000                  100.000000   \n",
       "\n",
       "       collagen-meat-protein-ratio_100g  cocoa_100g chlorophyl_100g  \\\n",
       "count                        165.000000  948.000000             0.0   \n",
       "unique                              NaN         NaN             NaN   \n",
       "top                                 NaN         NaN             NaN   \n",
       "freq                                NaN         NaN             NaN   \n",
       "mean                          15.412121   49.547785             NaN   \n",
       "std                            3.753028   18.757932             NaN   \n",
       "min                            8.000000    6.000000             NaN   \n",
       "25%                           12.000000   32.000000             NaN   \n",
       "50%                           15.000000   50.000000             NaN   \n",
       "75%                           15.000000   64.250000             NaN   \n",
       "max                           25.000000  100.000000             NaN   \n",
       "\n",
       "       carbon-footprint_100g nutrition-score-fr_100g nutrition-score-uk_100g  \\\n",
       "count             268.000000           221210.000000           221210.000000   \n",
       "unique                   NaN                     NaN                     NaN   \n",
       "top                      NaN                     NaN                     NaN   \n",
       "freq                     NaN                     NaN                     NaN   \n",
       "mean              341.700764                9.165535                9.058049   \n",
       "std               425.211439                9.055903                9.183589   \n",
       "min                 0.000000              -15.000000              -15.000000   \n",
       "25%                98.750000                1.000000                1.000000   \n",
       "50%               195.750000               10.000000                9.000000   \n",
       "75%               383.200000               16.000000               16.000000   \n",
       "max              2842.000000               40.000000               40.000000   \n",
       "\n",
       "       glycemic-index_100g water-hardness_100g  \n",
       "count                  0.0                 0.0  \n",
       "unique                 NaN                 NaN  \n",
       "top                    NaN                 NaN  \n",
       "freq                   NaN                 NaN  \n",
       "mean                   NaN                 NaN  \n",
       "std                    NaN                 NaN  \n",
       "min                    NaN                 NaN  \n",
       "25%                    NaN                 NaN  \n",
       "50%                    NaN                 NaN  \n",
       "75%                    NaN                 NaN  \n",
       "max                    NaN                 NaN  \n",
       "\n",
       "[11 rows x 162 columns]"
      ]
     },
     "execution_count": 358,
     "metadata": {},
     "output_type": "execute_result"
    }
   ],
   "source": [
    "data.describe(include='all')"
   ]
  },
  {
   "cell_type": "code",
   "execution_count": 359,
   "id": "b4182a90",
   "metadata": {},
   "outputs": [
    {
     "data": {
      "text/plain": [
       "['code',\n",
       " 'url',\n",
       " 'creator',\n",
       " 'created_t',\n",
       " 'created_datetime',\n",
       " 'last_modified_t',\n",
       " 'last_modified_datetime',\n",
       " 'product_name',\n",
       " 'generic_name',\n",
       " 'quantity',\n",
       " 'packaging',\n",
       " 'packaging_tags',\n",
       " 'brands',\n",
       " 'brands_tags',\n",
       " 'categories',\n",
       " 'categories_tags',\n",
       " 'categories_fr',\n",
       " 'origins',\n",
       " 'origins_tags',\n",
       " 'manufacturing_places',\n",
       " 'manufacturing_places_tags',\n",
       " 'labels',\n",
       " 'labels_tags',\n",
       " 'labels_fr',\n",
       " 'emb_codes',\n",
       " 'emb_codes_tags',\n",
       " 'first_packaging_code_geo',\n",
       " 'cities',\n",
       " 'cities_tags',\n",
       " 'purchase_places',\n",
       " 'stores',\n",
       " 'countries',\n",
       " 'countries_tags',\n",
       " 'countries_fr',\n",
       " 'ingredients_text',\n",
       " 'allergens',\n",
       " 'allergens_fr',\n",
       " 'traces',\n",
       " 'traces_tags',\n",
       " 'traces_fr',\n",
       " 'serving_size',\n",
       " 'no_nutriments',\n",
       " 'additives_n',\n",
       " 'additives',\n",
       " 'additives_tags',\n",
       " 'additives_fr',\n",
       " 'ingredients_from_palm_oil_n',\n",
       " 'ingredients_from_palm_oil',\n",
       " 'ingredients_from_palm_oil_tags',\n",
       " 'ingredients_that_may_be_from_palm_oil_n',\n",
       " 'ingredients_that_may_be_from_palm_oil',\n",
       " 'ingredients_that_may_be_from_palm_oil_tags',\n",
       " 'nutrition_grade_uk',\n",
       " 'nutrition_grade_fr',\n",
       " 'pnns_groups_1',\n",
       " 'pnns_groups_2',\n",
       " 'states',\n",
       " 'states_tags',\n",
       " 'states_fr',\n",
       " 'main_category',\n",
       " 'main_category_fr',\n",
       " 'image_url',\n",
       " 'image_small_url',\n",
       " 'energy_100g',\n",
       " 'energy-from-fat_100g',\n",
       " 'fat_100g',\n",
       " 'saturated-fat_100g',\n",
       " 'butyric-acid_100g',\n",
       " 'caproic-acid_100g',\n",
       " 'caprylic-acid_100g',\n",
       " 'capric-acid_100g',\n",
       " 'lauric-acid_100g',\n",
       " 'myristic-acid_100g',\n",
       " 'palmitic-acid_100g',\n",
       " 'stearic-acid_100g',\n",
       " 'arachidic-acid_100g',\n",
       " 'behenic-acid_100g',\n",
       " 'lignoceric-acid_100g',\n",
       " 'cerotic-acid_100g',\n",
       " 'montanic-acid_100g',\n",
       " 'melissic-acid_100g',\n",
       " 'monounsaturated-fat_100g',\n",
       " 'polyunsaturated-fat_100g',\n",
       " 'omega-3-fat_100g',\n",
       " 'alpha-linolenic-acid_100g',\n",
       " 'eicosapentaenoic-acid_100g',\n",
       " 'docosahexaenoic-acid_100g',\n",
       " 'omega-6-fat_100g',\n",
       " 'linoleic-acid_100g',\n",
       " 'arachidonic-acid_100g',\n",
       " 'gamma-linolenic-acid_100g',\n",
       " 'dihomo-gamma-linolenic-acid_100g',\n",
       " 'omega-9-fat_100g',\n",
       " 'oleic-acid_100g',\n",
       " 'elaidic-acid_100g',\n",
       " 'gondoic-acid_100g',\n",
       " 'mead-acid_100g',\n",
       " 'erucic-acid_100g',\n",
       " 'nervonic-acid_100g',\n",
       " 'trans-fat_100g',\n",
       " 'cholesterol_100g',\n",
       " 'carbohydrates_100g',\n",
       " 'sugars_100g',\n",
       " 'sucrose_100g',\n",
       " 'glucose_100g',\n",
       " 'fructose_100g',\n",
       " 'lactose_100g',\n",
       " 'maltose_100g',\n",
       " 'maltodextrins_100g',\n",
       " 'starch_100g',\n",
       " 'polyols_100g',\n",
       " 'fiber_100g',\n",
       " 'proteins_100g',\n",
       " 'casein_100g',\n",
       " 'serum-proteins_100g',\n",
       " 'nucleotides_100g',\n",
       " 'salt_100g',\n",
       " 'sodium_100g',\n",
       " 'alcohol_100g',\n",
       " 'vitamin-a_100g',\n",
       " 'beta-carotene_100g',\n",
       " 'vitamin-d_100g',\n",
       " 'vitamin-e_100g',\n",
       " 'vitamin-k_100g',\n",
       " 'vitamin-c_100g',\n",
       " 'vitamin-b1_100g',\n",
       " 'vitamin-b2_100g',\n",
       " 'vitamin-pp_100g',\n",
       " 'vitamin-b6_100g',\n",
       " 'vitamin-b9_100g',\n",
       " 'folates_100g',\n",
       " 'vitamin-b12_100g',\n",
       " 'biotin_100g',\n",
       " 'pantothenic-acid_100g',\n",
       " 'silica_100g',\n",
       " 'bicarbonate_100g',\n",
       " 'potassium_100g',\n",
       " 'chloride_100g',\n",
       " 'calcium_100g',\n",
       " 'phosphorus_100g',\n",
       " 'iron_100g',\n",
       " 'magnesium_100g',\n",
       " 'zinc_100g',\n",
       " 'copper_100g',\n",
       " 'manganese_100g',\n",
       " 'fluoride_100g',\n",
       " 'selenium_100g',\n",
       " 'chromium_100g',\n",
       " 'molybdenum_100g',\n",
       " 'iodine_100g',\n",
       " 'caffeine_100g',\n",
       " 'taurine_100g',\n",
       " 'ph_100g',\n",
       " 'fruits-vegetables-nuts_100g',\n",
       " 'collagen-meat-protein-ratio_100g',\n",
       " 'cocoa_100g',\n",
       " 'chlorophyl_100g',\n",
       " 'carbon-footprint_100g',\n",
       " 'nutrition-score-fr_100g',\n",
       " 'nutrition-score-uk_100g',\n",
       " 'glycemic-index_100g',\n",
       " 'water-hardness_100g']"
      ]
     },
     "execution_count": 359,
     "metadata": {},
     "output_type": "execute_result"
    }
   ],
   "source": [
    "data.columns.tolist()"
   ]
  },
  {
   "cell_type": "markdown",
   "id": "17eef26d",
   "metadata": {},
   "source": [
    "**Existe-t-il des Doublons dans ce jeu de données ?**"
   ]
  },
  {
   "cell_type": "code",
   "execution_count": 360,
   "id": "ff5bfdf3",
   "metadata": {},
   "outputs": [
    {
     "data": {
      "text/plain": [
       "0"
      ]
     },
     "execution_count": 360,
     "metadata": {},
     "output_type": "execute_result"
    }
   ],
   "source": [
    "data.duplicated().sum()"
   ]
  },
  {
   "cell_type": "markdown",
   "id": "ed4503c0",
   "metadata": {},
   "source": [
    "aucun doublon"
   ]
  },
  {
   "cell_type": "markdown",
   "id": "47253b65",
   "metadata": {},
   "source": [
    "**Nombre de valeurs manquantes pour chaque colonne**"
   ]
  },
  {
   "cell_type": "code",
   "execution_count": 361,
   "id": "03de198d",
   "metadata": {},
   "outputs": [
    {
     "data": {
      "text/plain": [
       "code                           23\n",
       "url                            23\n",
       "creator                         2\n",
       "created_t                       3\n",
       "created_datetime                9\n",
       "                            ...  \n",
       "carbon-footprint_100g      320504\n",
       "nutrition-score-fr_100g     99562\n",
       "nutrition-score-uk_100g     99562\n",
       "glycemic-index_100g        320772\n",
       "water-hardness_100g        320772\n",
       "Length: 162, dtype: int64"
      ]
     },
     "execution_count": 361,
     "metadata": {},
     "output_type": "execute_result"
    }
   ],
   "source": [
    "data.isnull().sum() "
   ]
  },
  {
   "cell_type": "code",
   "execution_count": 362,
   "id": "d27b546c",
   "metadata": {},
   "outputs": [
    {
     "data": {
      "text/plain": [
       "code                         0.007170\n",
       "url                          0.007170\n",
       "creator                      0.000623\n",
       "created_t                    0.000935\n",
       "created_datetime             0.002806\n",
       "                              ...    \n",
       "carbon-footprint_100g       99.916452\n",
       "nutrition-score-fr_100g     31.038245\n",
       "nutrition-score-uk_100g     31.038245\n",
       "glycemic-index_100g        100.000000\n",
       "water-hardness_100g        100.000000\n",
       "Length: 162, dtype: float64"
      ]
     },
     "execution_count": 362,
     "metadata": {},
     "output_type": "execute_result"
    }
   ],
   "source": [
    "data.isnull().sum() / data.shape[0] * 100.00"
   ]
  },
  {
   "cell_type": "code",
   "execution_count": 363,
   "id": "2a681196",
   "metadata": {},
   "outputs": [
    {
     "data": {
      "image/png": "[encoded data removed]",
      "text/plain": [
       "<Figure size 1152x864 with 2 Axes>"
      ]
     },
     "metadata": {},
     "output_type": "display_data"
    }
   ],
   "source": [
    "fig, (ax1, ax2) = plt.subplots(nrows=1, ncols=2, figsize=(16, 12))\n",
    "fig.suptitle(\"Proportion de NaN dans chaque colonne (%)\", size=30)\n",
    "\n",
    "count = data.isnull().mean(axis=0)\n",
    "ax1.barh(y=count[:80].index, width=count[:80].values, color='#FB9A99', alpha=0.5)\n",
    "ax1.axvline(x=0.6)\n",
    "ax2.barh(y=count[80:].index, width=count[80:].values, color='#FB9A99', alpha=0.5)\n",
    "ax2.axvline(x=0.6)\n",
    "\n",
    "plt.tight_layout(w_pad=0,pad=5)\n",
    "plt.show()"
   ]
  },
  {
   "cell_type": "code",
   "execution_count": 364,
   "id": "85fb11e4",
   "metadata": {},
   "outputs": [
    {
     "name": "stderr",
     "output_type": "stream",
     "text": [
      "/Users/soraya/opt/anaconda3/lib/python3.9/site-packages/seaborn/distributions.py:2619: FutureWarning: `distplot` is a deprecated function and will be removed in a future version. Please adapt your code to use either `displot` (a figure-level function with similar flexibility) or `histplot` (an axes-level function for histograms).\n",
      "  warnings.warn(msg, FutureWarning)\n"
     ]
    },
    {
     "data": {
      "image/png": "[encoded data removed]",
      "text/plain": [
       "<Figure size 432x288 with 1 Axes>"
      ]
     },
     "metadata": {},
     "output_type": "display_data"
    }
   ],
   "source": [
    "proportion_nan = data.isna().sum().divide(data.shape[0]/100).sort_values(ascending=False)\n",
    "sns.set(style=\"whitegrid\")\n",
    "ax = sns.distplot(proportion_nan.values)\n",
    "ax.xaxis.set_ticks_position('top')\n",
    "plt.title('Répartition de la quantité de NaN', size=15)\n",
    "plt.show()"
   ]
  },
  {
   "cell_type": "code",
   "execution_count": 365,
   "id": "b976290b",
   "metadata": {},
   "outputs": [
    {
     "name": "stdout",
     "output_type": "stream",
     "text": [
      "nb of null:  39608589 \n",
      "pct of null:  76.2\n"
     ]
    }
   ],
   "source": [
    "# Nb total et pourcentage de NAN\n",
    "\n",
    "def print_null_pct(data):\n",
    "    tot_null = data.isna().sum().sum()\n",
    "    print('nb of null: ', tot_null, '\\npct of null: ',\n",
    "        '{:.1f}'.format(tot_null*100/(data.shape[0]*data.shape[1])))\n",
    "\n",
    "print_null_pct(data)"
   ]
  },
  {
   "cell_type": "markdown",
   "id": "61ffeedf",
   "metadata": {},
   "source": [
    "**Suppression des features avec plus de 80% de valeurs manquantes**"
   ]
  },
  {
   "cell_type": "code",
   "execution_count": 366,
   "id": "18f32fdb",
   "metadata": {},
   "outputs": [],
   "source": [
    "threshold = 0.2 * data.shape[0]\n",
    "\n",
    "data = data.dropna(axis=1, thresh=threshold)"
   ]
  },
  {
   "cell_type": "code",
   "execution_count": 367,
   "id": "b8688170",
   "metadata": {},
   "outputs": [
    {
     "name": "stdout",
     "output_type": "stream",
     "text": [
      "Index(['code', 'url', 'creator', 'created_t', 'created_datetime',\n",
      "       'last_modified_t', 'last_modified_datetime', 'product_name', 'quantity',\n",
      "       'packaging', 'packaging_tags', 'brands', 'brands_tags', 'categories',\n",
      "       'categories_tags', 'categories_fr', 'countries', 'countries_tags',\n",
      "       'countries_fr', 'ingredients_text', 'serving_size', 'additives_n',\n",
      "       'additives', 'additives_tags', 'additives_fr',\n",
      "       'ingredients_from_palm_oil_n',\n",
      "       'ingredients_that_may_be_from_palm_oil_n', 'nutrition_grade_fr',\n",
      "       'pnns_groups_1', 'pnns_groups_2', 'states', 'states_tags', 'states_fr',\n",
      "       'main_category', 'main_category_fr', 'image_url', 'image_small_url',\n",
      "       'energy_100g', 'fat_100g', 'saturated-fat_100g', 'trans-fat_100g',\n",
      "       'cholesterol_100g', 'carbohydrates_100g', 'sugars_100g', 'fiber_100g',\n",
      "       'proteins_100g', 'salt_100g', 'sodium_100g', 'vitamin-a_100g',\n",
      "       'vitamin-c_100g', 'calcium_100g', 'iron_100g',\n",
      "       'nutrition-score-fr_100g', 'nutrition-score-uk_100g'],\n",
      "      dtype='object')\n"
     ]
    }
   ],
   "source": [
    "print(data.columns)"
   ]
  },
  {
   "cell_type": "code",
   "execution_count": 368,
   "id": "5a6f4b89",
   "metadata": {},
   "outputs": [
    {
     "data": {
      "text/html": [
       "<div>\n",
       "<style scoped>\n",
       "    .dataframe tbody tr th:only-of-type {\n",
       "        vertical-align: middle;\n",
       "    }\n",
       "\n",
       "    .dataframe tbody tr th {\n",
       "        vertical-align: top;\n",
       "    }\n",
       "\n",
       "    .dataframe thead th {\n",
       "        text-align: right;\n",
       "    }\n",
       "</style>\n",
       "<table border=\"1\" class=\"dataframe\">\n",
       "  <thead>\n",
       "    <tr style=\"text-align: right;\">\n",
       "      <th></th>\n",
       "      <th>code</th>\n",
       "      <th>url</th>\n",
       "      <th>creator</th>\n",
       "      <th>created_t</th>\n",
       "      <th>created_datetime</th>\n",
       "      <th>last_modified_t</th>\n",
       "      <th>last_modified_datetime</th>\n",
       "      <th>product_name</th>\n",
       "      <th>quantity</th>\n",
       "      <th>packaging</th>\n",
       "      <th>...</th>\n",
       "      <th>fiber_100g</th>\n",
       "      <th>proteins_100g</th>\n",
       "      <th>salt_100g</th>\n",
       "      <th>sodium_100g</th>\n",
       "      <th>vitamin-a_100g</th>\n",
       "      <th>vitamin-c_100g</th>\n",
       "      <th>calcium_100g</th>\n",
       "      <th>iron_100g</th>\n",
       "      <th>nutrition-score-fr_100g</th>\n",
       "      <th>nutrition-score-uk_100g</th>\n",
       "    </tr>\n",
       "  </thead>\n",
       "  <tbody>\n",
       "    <tr>\n",
       "      <th>0</th>\n",
       "      <td>0000000003087</td>\n",
       "      <td>http://world-fr.openfoodfacts.org/produit/0000...</td>\n",
       "      <td>openfoodfacts-contributors</td>\n",
       "      <td>1474103866</td>\n",
       "      <td>2016-09-17T09:17:46Z</td>\n",
       "      <td>1474103893</td>\n",
       "      <td>2016-09-17T09:18:13Z</td>\n",
       "      <td>Farine de blé noir</td>\n",
       "      <td>1kg</td>\n",
       "      <td>NaN</td>\n",
       "      <td>...</td>\n",
       "      <td>NaN</td>\n",
       "      <td>NaN</td>\n",
       "      <td>NaN</td>\n",
       "      <td>NaN</td>\n",
       "      <td>NaN</td>\n",
       "      <td>NaN</td>\n",
       "      <td>NaN</td>\n",
       "      <td>NaN</td>\n",
       "      <td>NaN</td>\n",
       "      <td>NaN</td>\n",
       "    </tr>\n",
       "    <tr>\n",
       "      <th>1</th>\n",
       "      <td>0000000004530</td>\n",
       "      <td>http://world-fr.openfoodfacts.org/produit/0000...</td>\n",
       "      <td>usda-ndb-import</td>\n",
       "      <td>1489069957</td>\n",
       "      <td>2017-03-09T14:32:37Z</td>\n",
       "      <td>1489069957</td>\n",
       "      <td>2017-03-09T14:32:37Z</td>\n",
       "      <td>Banana Chips Sweetened (Whole)</td>\n",
       "      <td>NaN</td>\n",
       "      <td>NaN</td>\n",
       "      <td>...</td>\n",
       "      <td>3.6</td>\n",
       "      <td>3.57</td>\n",
       "      <td>0.00000</td>\n",
       "      <td>0.000</td>\n",
       "      <td>0.0</td>\n",
       "      <td>0.0214</td>\n",
       "      <td>0.000</td>\n",
       "      <td>0.00129</td>\n",
       "      <td>14.0</td>\n",
       "      <td>14.0</td>\n",
       "    </tr>\n",
       "    <tr>\n",
       "      <th>2</th>\n",
       "      <td>0000000004559</td>\n",
       "      <td>http://world-fr.openfoodfacts.org/produit/0000...</td>\n",
       "      <td>usda-ndb-import</td>\n",
       "      <td>1489069957</td>\n",
       "      <td>2017-03-09T14:32:37Z</td>\n",
       "      <td>1489069957</td>\n",
       "      <td>2017-03-09T14:32:37Z</td>\n",
       "      <td>Peanuts</td>\n",
       "      <td>NaN</td>\n",
       "      <td>NaN</td>\n",
       "      <td>...</td>\n",
       "      <td>7.1</td>\n",
       "      <td>17.86</td>\n",
       "      <td>0.63500</td>\n",
       "      <td>0.250</td>\n",
       "      <td>0.0</td>\n",
       "      <td>0.0000</td>\n",
       "      <td>0.071</td>\n",
       "      <td>0.00129</td>\n",
       "      <td>0.0</td>\n",
       "      <td>0.0</td>\n",
       "    </tr>\n",
       "    <tr>\n",
       "      <th>3</th>\n",
       "      <td>0000000016087</td>\n",
       "      <td>http://world-fr.openfoodfacts.org/produit/0000...</td>\n",
       "      <td>usda-ndb-import</td>\n",
       "      <td>1489055731</td>\n",
       "      <td>2017-03-09T10:35:31Z</td>\n",
       "      <td>1489055731</td>\n",
       "      <td>2017-03-09T10:35:31Z</td>\n",
       "      <td>Organic Salted Nut Mix</td>\n",
       "      <td>NaN</td>\n",
       "      <td>NaN</td>\n",
       "      <td>...</td>\n",
       "      <td>7.1</td>\n",
       "      <td>17.86</td>\n",
       "      <td>1.22428</td>\n",
       "      <td>0.482</td>\n",
       "      <td>NaN</td>\n",
       "      <td>NaN</td>\n",
       "      <td>0.143</td>\n",
       "      <td>0.00514</td>\n",
       "      <td>12.0</td>\n",
       "      <td>12.0</td>\n",
       "    </tr>\n",
       "    <tr>\n",
       "      <th>4</th>\n",
       "      <td>0000000016094</td>\n",
       "      <td>http://world-fr.openfoodfacts.org/produit/0000...</td>\n",
       "      <td>usda-ndb-import</td>\n",
       "      <td>1489055653</td>\n",
       "      <td>2017-03-09T10:34:13Z</td>\n",
       "      <td>1489055653</td>\n",
       "      <td>2017-03-09T10:34:13Z</td>\n",
       "      <td>Organic Polenta</td>\n",
       "      <td>NaN</td>\n",
       "      <td>NaN</td>\n",
       "      <td>...</td>\n",
       "      <td>5.7</td>\n",
       "      <td>8.57</td>\n",
       "      <td>NaN</td>\n",
       "      <td>NaN</td>\n",
       "      <td>NaN</td>\n",
       "      <td>NaN</td>\n",
       "      <td>NaN</td>\n",
       "      <td>NaN</td>\n",
       "      <td>NaN</td>\n",
       "      <td>NaN</td>\n",
       "    </tr>\n",
       "    <tr>\n",
       "      <th>...</th>\n",
       "      <td>...</td>\n",
       "      <td>...</td>\n",
       "      <td>...</td>\n",
       "      <td>...</td>\n",
       "      <td>...</td>\n",
       "      <td>...</td>\n",
       "      <td>...</td>\n",
       "      <td>...</td>\n",
       "      <td>...</td>\n",
       "      <td>...</td>\n",
       "      <td>...</td>\n",
       "      <td>...</td>\n",
       "      <td>...</td>\n",
       "      <td>...</td>\n",
       "      <td>...</td>\n",
       "      <td>...</td>\n",
       "      <td>...</td>\n",
       "      <td>...</td>\n",
       "      <td>...</td>\n",
       "      <td>...</td>\n",
       "      <td>...</td>\n",
       "    </tr>\n",
       "    <tr>\n",
       "      <th>320767</th>\n",
       "      <td>9948282780603</td>\n",
       "      <td>http://world-fr.openfoodfacts.org/produit/9948...</td>\n",
       "      <td>openfoodfacts-contributors</td>\n",
       "      <td>1490631299</td>\n",
       "      <td>2017-03-27T16:14:59Z</td>\n",
       "      <td>1491244498</td>\n",
       "      <td>2017-04-03T18:34:58Z</td>\n",
       "      <td>Tomato &amp; ricotta</td>\n",
       "      <td>1</td>\n",
       "      <td>Plastique</td>\n",
       "      <td>...</td>\n",
       "      <td>NaN</td>\n",
       "      <td>NaN</td>\n",
       "      <td>NaN</td>\n",
       "      <td>NaN</td>\n",
       "      <td>NaN</td>\n",
       "      <td>NaN</td>\n",
       "      <td>NaN</td>\n",
       "      <td>NaN</td>\n",
       "      <td>NaN</td>\n",
       "      <td>NaN</td>\n",
       "    </tr>\n",
       "    <tr>\n",
       "      <th>320768</th>\n",
       "      <td>99567453</td>\n",
       "      <td>http://world-fr.openfoodfacts.org/produit/9956...</td>\n",
       "      <td>usda-ndb-import</td>\n",
       "      <td>1489059076</td>\n",
       "      <td>2017-03-09T11:31:16Z</td>\n",
       "      <td>1491244499</td>\n",
       "      <td>2017-04-03T18:34:59Z</td>\n",
       "      <td>Mint Melange Tea A Blend Of Peppermint, Lemon ...</td>\n",
       "      <td>NaN</td>\n",
       "      <td>Plastique</td>\n",
       "      <td>...</td>\n",
       "      <td>0.0</td>\n",
       "      <td>0.00</td>\n",
       "      <td>0.00000</td>\n",
       "      <td>0.000</td>\n",
       "      <td>0.0</td>\n",
       "      <td>0.0000</td>\n",
       "      <td>0.000</td>\n",
       "      <td>0.00000</td>\n",
       "      <td>0.0</td>\n",
       "      <td>0.0</td>\n",
       "    </tr>\n",
       "    <tr>\n",
       "      <th>320769</th>\n",
       "      <td>9970229501521</td>\n",
       "      <td>http://world-fr.openfoodfacts.org/produit/9970...</td>\n",
       "      <td>tomato</td>\n",
       "      <td>1422099377</td>\n",
       "      <td>2015-01-24T11:36:17Z</td>\n",
       "      <td>1491244499</td>\n",
       "      <td>2017-04-03T18:34:59Z</td>\n",
       "      <td>乐吧泡菜味薯片</td>\n",
       "      <td>50 g</td>\n",
       "      <td>Plastique</td>\n",
       "      <td>...</td>\n",
       "      <td>NaN</td>\n",
       "      <td>NaN</td>\n",
       "      <td>NaN</td>\n",
       "      <td>NaN</td>\n",
       "      <td>NaN</td>\n",
       "      <td>NaN</td>\n",
       "      <td>NaN</td>\n",
       "      <td>NaN</td>\n",
       "      <td>NaN</td>\n",
       "      <td>NaN</td>\n",
       "    </tr>\n",
       "    <tr>\n",
       "      <th>320770</th>\n",
       "      <td>9980282863788</td>\n",
       "      <td>http://world-fr.openfoodfacts.org/produit/9980...</td>\n",
       "      <td>openfoodfacts-contributors</td>\n",
       "      <td>1492340089</td>\n",
       "      <td>2017-04-16T10:54:49Z</td>\n",
       "      <td>1492340089</td>\n",
       "      <td>2017-04-16T10:54:49Z</td>\n",
       "      <td>Tomates aux Vermicelles</td>\n",
       "      <td>67g</td>\n",
       "      <td>NaN</td>\n",
       "      <td>...</td>\n",
       "      <td>NaN</td>\n",
       "      <td>NaN</td>\n",
       "      <td>NaN</td>\n",
       "      <td>NaN</td>\n",
       "      <td>NaN</td>\n",
       "      <td>NaN</td>\n",
       "      <td>NaN</td>\n",
       "      <td>NaN</td>\n",
       "      <td>NaN</td>\n",
       "      <td>NaN</td>\n",
       "    </tr>\n",
       "    <tr>\n",
       "      <th>320771</th>\n",
       "      <td>999990026839</td>\n",
       "      <td>http://world-fr.openfoodfacts.org/produit/9999...</td>\n",
       "      <td>usda-ndb-import</td>\n",
       "      <td>1489072709</td>\n",
       "      <td>2017-03-09T15:18:29Z</td>\n",
       "      <td>1491244499</td>\n",
       "      <td>2017-04-03T18:34:59Z</td>\n",
       "      <td>Sugar Free Drink Mix, Peach Tea</td>\n",
       "      <td>NaN</td>\n",
       "      <td>Plastique</td>\n",
       "      <td>...</td>\n",
       "      <td>NaN</td>\n",
       "      <td>0.00</td>\n",
       "      <td>0.00000</td>\n",
       "      <td>0.000</td>\n",
       "      <td>NaN</td>\n",
       "      <td>NaN</td>\n",
       "      <td>NaN</td>\n",
       "      <td>NaN</td>\n",
       "      <td>NaN</td>\n",
       "      <td>NaN</td>\n",
       "    </tr>\n",
       "  </tbody>\n",
       "</table>\n",
       "<p>320772 rows × 54 columns</p>\n",
       "</div>"
      ],
      "text/plain": [
       "                 code                                                url  \\\n",
       "0       0000000003087  http://world-fr.openfoodfacts.org/produit/0000...   \n",
       "1       0000000004530  http://world-fr.openfoodfacts.org/produit/0000...   \n",
       "2       0000000004559  http://world-fr.openfoodfacts.org/produit/0000...   \n",
       "3       0000000016087  http://world-fr.openfoodfacts.org/produit/0000...   \n",
       "4       0000000016094  http://world-fr.openfoodfacts.org/produit/0000...   \n",
       "...               ...                                                ...   \n",
       "320767  9948282780603  http://world-fr.openfoodfacts.org/produit/9948...   \n",
       "320768       99567453  http://world-fr.openfoodfacts.org/produit/9956...   \n",
       "320769  9970229501521  http://world-fr.openfoodfacts.org/produit/9970...   \n",
       "320770  9980282863788  http://world-fr.openfoodfacts.org/produit/9980...   \n",
       "320771   999990026839  http://world-fr.openfoodfacts.org/produit/9999...   \n",
       "\n",
       "                           creator   created_t      created_datetime  \\\n",
       "0       openfoodfacts-contributors  1474103866  2016-09-17T09:17:46Z   \n",
       "1                  usda-ndb-import  1489069957  2017-03-09T14:32:37Z   \n",
       "2                  usda-ndb-import  1489069957  2017-03-09T14:32:37Z   \n",
       "3                  usda-ndb-import  1489055731  2017-03-09T10:35:31Z   \n",
       "4                  usda-ndb-import  1489055653  2017-03-09T10:34:13Z   \n",
       "...                            ...         ...                   ...   \n",
       "320767  openfoodfacts-contributors  1490631299  2017-03-27T16:14:59Z   \n",
       "320768             usda-ndb-import  1489059076  2017-03-09T11:31:16Z   \n",
       "320769                      tomato  1422099377  2015-01-24T11:36:17Z   \n",
       "320770  openfoodfacts-contributors  1492340089  2017-04-16T10:54:49Z   \n",
       "320771             usda-ndb-import  1489072709  2017-03-09T15:18:29Z   \n",
       "\n",
       "       last_modified_t last_modified_datetime  \\\n",
       "0           1474103893   2016-09-17T09:18:13Z   \n",
       "1           1489069957   2017-03-09T14:32:37Z   \n",
       "2           1489069957   2017-03-09T14:32:37Z   \n",
       "3           1489055731   2017-03-09T10:35:31Z   \n",
       "4           1489055653   2017-03-09T10:34:13Z   \n",
       "...                ...                    ...   \n",
       "320767      1491244498   2017-04-03T18:34:58Z   \n",
       "320768      1491244499   2017-04-03T18:34:59Z   \n",
       "320769      1491244499   2017-04-03T18:34:59Z   \n",
       "320770      1492340089   2017-04-16T10:54:49Z   \n",
       "320771      1491244499   2017-04-03T18:34:59Z   \n",
       "\n",
       "                                             product_name quantity  packaging  \\\n",
       "0                                      Farine de blé noir      1kg        NaN   \n",
       "1                          Banana Chips Sweetened (Whole)      NaN        NaN   \n",
       "2                                                 Peanuts      NaN        NaN   \n",
       "3                                  Organic Salted Nut Mix      NaN        NaN   \n",
       "4                                         Organic Polenta      NaN        NaN   \n",
       "...                                                   ...      ...        ...   \n",
       "320767                                  Tomato & ricotta         1  Plastique   \n",
       "320768  Mint Melange Tea A Blend Of Peppermint, Lemon ...      NaN  Plastique   \n",
       "320769                                            乐吧泡菜味薯片     50 g  Plastique   \n",
       "320770                           Tomates aux Vermicelles       67g        NaN   \n",
       "320771                    Sugar Free Drink Mix, Peach Tea      NaN  Plastique   \n",
       "\n",
       "        ... fiber_100g proteins_100g salt_100g sodium_100g vitamin-a_100g  \\\n",
       "0       ...        NaN           NaN       NaN         NaN            NaN   \n",
       "1       ...        3.6          3.57   0.00000       0.000            0.0   \n",
       "2       ...        7.1         17.86   0.63500       0.250            0.0   \n",
       "3       ...        7.1         17.86   1.22428       0.482            NaN   \n",
       "4       ...        5.7          8.57       NaN         NaN            NaN   \n",
       "...     ...        ...           ...       ...         ...            ...   \n",
       "320767  ...        NaN           NaN       NaN         NaN            NaN   \n",
       "320768  ...        0.0          0.00   0.00000       0.000            0.0   \n",
       "320769  ...        NaN           NaN       NaN         NaN            NaN   \n",
       "320770  ...        NaN           NaN       NaN         NaN            NaN   \n",
       "320771  ...        NaN          0.00   0.00000       0.000            NaN   \n",
       "\n",
       "       vitamin-c_100g calcium_100g iron_100g nutrition-score-fr_100g  \\\n",
       "0                 NaN          NaN       NaN                     NaN   \n",
       "1              0.0214        0.000   0.00129                    14.0   \n",
       "2              0.0000        0.071   0.00129                     0.0   \n",
       "3                 NaN        0.143   0.00514                    12.0   \n",
       "4                 NaN          NaN       NaN                     NaN   \n",
       "...               ...          ...       ...                     ...   \n",
       "320767            NaN          NaN       NaN                     NaN   \n",
       "320768         0.0000        0.000   0.00000                     0.0   \n",
       "320769            NaN          NaN       NaN                     NaN   \n",
       "320770            NaN          NaN       NaN                     NaN   \n",
       "320771            NaN          NaN       NaN                     NaN   \n",
       "\n",
       "       nutrition-score-uk_100g  \n",
       "0                          NaN  \n",
       "1                         14.0  \n",
       "2                          0.0  \n",
       "3                         12.0  \n",
       "4                          NaN  \n",
       "...                        ...  \n",
       "320767                     NaN  \n",
       "320768                     0.0  \n",
       "320769                     NaN  \n",
       "320770                     NaN  \n",
       "320771                     NaN  \n",
       "\n",
       "[320772 rows x 54 columns]"
      ]
     },
     "execution_count": 368,
     "metadata": {},
     "output_type": "execute_result"
    }
   ],
   "source": [
    "data"
   ]
  },
  {
   "cell_type": "code",
   "execution_count": 369,
   "id": "feb9c4fb",
   "metadata": {},
   "outputs": [
    {
     "data": {
      "text/plain": [
       "['code',\n",
       " 'url',\n",
       " 'creator',\n",
       " 'created_t',\n",
       " 'created_datetime',\n",
       " 'last_modified_t',\n",
       " 'last_modified_datetime',\n",
       " 'product_name',\n",
       " 'quantity',\n",
       " 'packaging',\n",
       " 'packaging_tags',\n",
       " 'brands',\n",
       " 'brands_tags',\n",
       " 'categories',\n",
       " 'categories_tags',\n",
       " 'categories_fr',\n",
       " 'countries',\n",
       " 'countries_tags',\n",
       " 'countries_fr',\n",
       " 'ingredients_text',\n",
       " 'serving_size',\n",
       " 'additives_n',\n",
       " 'additives',\n",
       " 'additives_tags',\n",
       " 'additives_fr',\n",
       " 'ingredients_from_palm_oil_n',\n",
       " 'ingredients_that_may_be_from_palm_oil_n',\n",
       " 'nutrition_grade_fr',\n",
       " 'pnns_groups_1',\n",
       " 'pnns_groups_2',\n",
       " 'states',\n",
       " 'states_tags',\n",
       " 'states_fr',\n",
       " 'main_category',\n",
       " 'main_category_fr',\n",
       " 'image_url',\n",
       " 'image_small_url',\n",
       " 'energy_100g',\n",
       " 'fat_100g',\n",
       " 'saturated-fat_100g',\n",
       " 'trans-fat_100g',\n",
       " 'cholesterol_100g',\n",
       " 'carbohydrates_100g',\n",
       " 'sugars_100g',\n",
       " 'fiber_100g',\n",
       " 'proteins_100g',\n",
       " 'salt_100g',\n",
       " 'sodium_100g',\n",
       " 'vitamin-a_100g',\n",
       " 'vitamin-c_100g',\n",
       " 'calcium_100g',\n",
       " 'iron_100g',\n",
       " 'nutrition-score-fr_100g',\n",
       " 'nutrition-score-uk_100g']"
      ]
     },
     "execution_count": 369,
     "metadata": {},
     "output_type": "execute_result"
    }
   ],
   "source": [
    "data.columns.tolist()"
   ]
  },
  {
   "cell_type": "markdown",
   "id": "462eeb1a",
   "metadata": {},
   "source": [
    "# Sélection des features pertinentes"
   ]
  },
  {
   "cell_type": "code",
   "execution_count": 370,
   "id": "6bf038a8",
   "metadata": {},
   "outputs": [
    {
     "data": {
      "text/html": [
       "<div>\n",
       "<style scoped>\n",
       "    .dataframe tbody tr th:only-of-type {\n",
       "        vertical-align: middle;\n",
       "    }\n",
       "\n",
       "    .dataframe tbody tr th {\n",
       "        vertical-align: top;\n",
       "    }\n",
       "\n",
       "    .dataframe thead th {\n",
       "        text-align: right;\n",
       "    }\n",
       "</style>\n",
       "<table border=\"1\" class=\"dataframe\">\n",
       "  <thead>\n",
       "    <tr style=\"text-align: right;\">\n",
       "      <th></th>\n",
       "      <th>product_name</th>\n",
       "      <th>brands</th>\n",
       "      <th>nutrition_grade_fr</th>\n",
       "      <th>pnns_groups_1</th>\n",
       "      <th>pnns_groups_2</th>\n",
       "      <th>nutrition-score-fr_100g</th>\n",
       "      <th>nutrition-score-uk_100g</th>\n",
       "      <th>fat_100g</th>\n",
       "      <th>saturated-fat_100g</th>\n",
       "      <th>trans-fat_100g</th>\n",
       "      <th>cholesterol_100g</th>\n",
       "      <th>carbohydrates_100g</th>\n",
       "      <th>sugars_100g</th>\n",
       "      <th>fiber_100g</th>\n",
       "      <th>proteins_100g</th>\n",
       "      <th>salt_100g</th>\n",
       "      <th>sodium_100g</th>\n",
       "      <th>energy_100g</th>\n",
       "    </tr>\n",
       "  </thead>\n",
       "  <tbody>\n",
       "    <tr>\n",
       "      <th>0</th>\n",
       "      <td>Farine de blé noir</td>\n",
       "      <td>Ferme t'y R'nao</td>\n",
       "      <td>NaN</td>\n",
       "      <td>NaN</td>\n",
       "      <td>NaN</td>\n",
       "      <td>NaN</td>\n",
       "      <td>NaN</td>\n",
       "      <td>NaN</td>\n",
       "      <td>NaN</td>\n",
       "      <td>NaN</td>\n",
       "      <td>NaN</td>\n",
       "      <td>NaN</td>\n",
       "      <td>NaN</td>\n",
       "      <td>NaN</td>\n",
       "      <td>NaN</td>\n",
       "      <td>NaN</td>\n",
       "      <td>NaN</td>\n",
       "      <td>NaN</td>\n",
       "    </tr>\n",
       "    <tr>\n",
       "      <th>1</th>\n",
       "      <td>Banana Chips Sweetened (Whole)</td>\n",
       "      <td>NaN</td>\n",
       "      <td>d</td>\n",
       "      <td>NaN</td>\n",
       "      <td>NaN</td>\n",
       "      <td>14.0</td>\n",
       "      <td>14.0</td>\n",
       "      <td>28.57</td>\n",
       "      <td>28.57</td>\n",
       "      <td>0.0</td>\n",
       "      <td>0.018</td>\n",
       "      <td>64.29</td>\n",
       "      <td>14.29</td>\n",
       "      <td>3.6</td>\n",
       "      <td>3.57</td>\n",
       "      <td>0.00000</td>\n",
       "      <td>0.000</td>\n",
       "      <td>2243.0</td>\n",
       "    </tr>\n",
       "    <tr>\n",
       "      <th>2</th>\n",
       "      <td>Peanuts</td>\n",
       "      <td>Torn &amp; Glasser</td>\n",
       "      <td>b</td>\n",
       "      <td>NaN</td>\n",
       "      <td>NaN</td>\n",
       "      <td>0.0</td>\n",
       "      <td>0.0</td>\n",
       "      <td>17.86</td>\n",
       "      <td>0.00</td>\n",
       "      <td>0.0</td>\n",
       "      <td>0.000</td>\n",
       "      <td>60.71</td>\n",
       "      <td>17.86</td>\n",
       "      <td>7.1</td>\n",
       "      <td>17.86</td>\n",
       "      <td>0.63500</td>\n",
       "      <td>0.250</td>\n",
       "      <td>1941.0</td>\n",
       "    </tr>\n",
       "    <tr>\n",
       "      <th>3</th>\n",
       "      <td>Organic Salted Nut Mix</td>\n",
       "      <td>Grizzlies</td>\n",
       "      <td>d</td>\n",
       "      <td>NaN</td>\n",
       "      <td>NaN</td>\n",
       "      <td>12.0</td>\n",
       "      <td>12.0</td>\n",
       "      <td>57.14</td>\n",
       "      <td>5.36</td>\n",
       "      <td>NaN</td>\n",
       "      <td>NaN</td>\n",
       "      <td>17.86</td>\n",
       "      <td>3.57</td>\n",
       "      <td>7.1</td>\n",
       "      <td>17.86</td>\n",
       "      <td>1.22428</td>\n",
       "      <td>0.482</td>\n",
       "      <td>2540.0</td>\n",
       "    </tr>\n",
       "    <tr>\n",
       "      <th>4</th>\n",
       "      <td>Organic Polenta</td>\n",
       "      <td>Bob's Red Mill</td>\n",
       "      <td>NaN</td>\n",
       "      <td>NaN</td>\n",
       "      <td>NaN</td>\n",
       "      <td>NaN</td>\n",
       "      <td>NaN</td>\n",
       "      <td>1.43</td>\n",
       "      <td>NaN</td>\n",
       "      <td>NaN</td>\n",
       "      <td>NaN</td>\n",
       "      <td>77.14</td>\n",
       "      <td>NaN</td>\n",
       "      <td>5.7</td>\n",
       "      <td>8.57</td>\n",
       "      <td>NaN</td>\n",
       "      <td>NaN</td>\n",
       "      <td>1552.0</td>\n",
       "    </tr>\n",
       "    <tr>\n",
       "      <th>...</th>\n",
       "      <td>...</td>\n",
       "      <td>...</td>\n",
       "      <td>...</td>\n",
       "      <td>...</td>\n",
       "      <td>...</td>\n",
       "      <td>...</td>\n",
       "      <td>...</td>\n",
       "      <td>...</td>\n",
       "      <td>...</td>\n",
       "      <td>...</td>\n",
       "      <td>...</td>\n",
       "      <td>...</td>\n",
       "      <td>...</td>\n",
       "      <td>...</td>\n",
       "      <td>...</td>\n",
       "      <td>...</td>\n",
       "      <td>...</td>\n",
       "      <td>...</td>\n",
       "    </tr>\n",
       "    <tr>\n",
       "      <th>320767</th>\n",
       "      <td>Tomato &amp; ricotta</td>\n",
       "      <td>Panzani</td>\n",
       "      <td>NaN</td>\n",
       "      <td>NaN</td>\n",
       "      <td>NaN</td>\n",
       "      <td>NaN</td>\n",
       "      <td>NaN</td>\n",
       "      <td>NaN</td>\n",
       "      <td>NaN</td>\n",
       "      <td>NaN</td>\n",
       "      <td>NaN</td>\n",
       "      <td>NaN</td>\n",
       "      <td>NaN</td>\n",
       "      <td>NaN</td>\n",
       "      <td>NaN</td>\n",
       "      <td>NaN</td>\n",
       "      <td>NaN</td>\n",
       "      <td>NaN</td>\n",
       "    </tr>\n",
       "    <tr>\n",
       "      <th>320768</th>\n",
       "      <td>Mint Melange Tea A Blend Of Peppermint, Lemon ...</td>\n",
       "      <td>Trader Joe's</td>\n",
       "      <td>b</td>\n",
       "      <td>NaN</td>\n",
       "      <td>NaN</td>\n",
       "      <td>0.0</td>\n",
       "      <td>0.0</td>\n",
       "      <td>0.00</td>\n",
       "      <td>0.00</td>\n",
       "      <td>0.0</td>\n",
       "      <td>0.000</td>\n",
       "      <td>0.00</td>\n",
       "      <td>0.00</td>\n",
       "      <td>0.0</td>\n",
       "      <td>0.00</td>\n",
       "      <td>0.00000</td>\n",
       "      <td>0.000</td>\n",
       "      <td>0.0</td>\n",
       "    </tr>\n",
       "    <tr>\n",
       "      <th>320769</th>\n",
       "      <td>乐吧泡菜味薯片</td>\n",
       "      <td>乐吧</td>\n",
       "      <td>NaN</td>\n",
       "      <td>Salty snacks</td>\n",
       "      <td>Appetizers</td>\n",
       "      <td>NaN</td>\n",
       "      <td>NaN</td>\n",
       "      <td>NaN</td>\n",
       "      <td>NaN</td>\n",
       "      <td>NaN</td>\n",
       "      <td>NaN</td>\n",
       "      <td>NaN</td>\n",
       "      <td>NaN</td>\n",
       "      <td>NaN</td>\n",
       "      <td>NaN</td>\n",
       "      <td>NaN</td>\n",
       "      <td>NaN</td>\n",
       "      <td>NaN</td>\n",
       "    </tr>\n",
       "    <tr>\n",
       "      <th>320770</th>\n",
       "      <td>Tomates aux Vermicelles</td>\n",
       "      <td>Knorr</td>\n",
       "      <td>NaN</td>\n",
       "      <td>NaN</td>\n",
       "      <td>NaN</td>\n",
       "      <td>NaN</td>\n",
       "      <td>NaN</td>\n",
       "      <td>NaN</td>\n",
       "      <td>NaN</td>\n",
       "      <td>NaN</td>\n",
       "      <td>NaN</td>\n",
       "      <td>NaN</td>\n",
       "      <td>NaN</td>\n",
       "      <td>NaN</td>\n",
       "      <td>NaN</td>\n",
       "      <td>NaN</td>\n",
       "      <td>NaN</td>\n",
       "      <td>NaN</td>\n",
       "    </tr>\n",
       "    <tr>\n",
       "      <th>320771</th>\n",
       "      <td>Sugar Free Drink Mix, Peach Tea</td>\n",
       "      <td>Market Pantry</td>\n",
       "      <td>NaN</td>\n",
       "      <td>NaN</td>\n",
       "      <td>NaN</td>\n",
       "      <td>NaN</td>\n",
       "      <td>NaN</td>\n",
       "      <td>0.00</td>\n",
       "      <td>NaN</td>\n",
       "      <td>NaN</td>\n",
       "      <td>NaN</td>\n",
       "      <td>0.00</td>\n",
       "      <td>0.00</td>\n",
       "      <td>NaN</td>\n",
       "      <td>0.00</td>\n",
       "      <td>0.00000</td>\n",
       "      <td>0.000</td>\n",
       "      <td>2092.0</td>\n",
       "    </tr>\n",
       "  </tbody>\n",
       "</table>\n",
       "<p>320772 rows × 18 columns</p>\n",
       "</div>"
      ],
      "text/plain": [
       "                                             product_name           brands  \\\n",
       "0                                      Farine de blé noir  Ferme t'y R'nao   \n",
       "1                          Banana Chips Sweetened (Whole)              NaN   \n",
       "2                                                 Peanuts   Torn & Glasser   \n",
       "3                                  Organic Salted Nut Mix        Grizzlies   \n",
       "4                                         Organic Polenta   Bob's Red Mill   \n",
       "...                                                   ...              ...   \n",
       "320767                                  Tomato & ricotta          Panzani    \n",
       "320768  Mint Melange Tea A Blend Of Peppermint, Lemon ...     Trader Joe's   \n",
       "320769                                            乐吧泡菜味薯片               乐吧   \n",
       "320770                           Tomates aux Vermicelles             Knorr   \n",
       "320771                    Sugar Free Drink Mix, Peach Tea    Market Pantry   \n",
       "\n",
       "       nutrition_grade_fr pnns_groups_1 pnns_groups_2  \\\n",
       "0                     NaN           NaN           NaN   \n",
       "1                       d           NaN           NaN   \n",
       "2                       b           NaN           NaN   \n",
       "3                       d           NaN           NaN   \n",
       "4                     NaN           NaN           NaN   \n",
       "...                   ...           ...           ...   \n",
       "320767                NaN           NaN           NaN   \n",
       "320768                  b           NaN           NaN   \n",
       "320769                NaN  Salty snacks    Appetizers   \n",
       "320770                NaN           NaN           NaN   \n",
       "320771                NaN           NaN           NaN   \n",
       "\n",
       "        nutrition-score-fr_100g  nutrition-score-uk_100g  fat_100g  \\\n",
       "0                           NaN                      NaN       NaN   \n",
       "1                          14.0                     14.0     28.57   \n",
       "2                           0.0                      0.0     17.86   \n",
       "3                          12.0                     12.0     57.14   \n",
       "4                           NaN                      NaN      1.43   \n",
       "...                         ...                      ...       ...   \n",
       "320767                      NaN                      NaN       NaN   \n",
       "320768                      0.0                      0.0      0.00   \n",
       "320769                      NaN                      NaN       NaN   \n",
       "320770                      NaN                      NaN       NaN   \n",
       "320771                      NaN                      NaN      0.00   \n",
       "\n",
       "        saturated-fat_100g  trans-fat_100g  cholesterol_100g  \\\n",
       "0                      NaN             NaN               NaN   \n",
       "1                    28.57             0.0             0.018   \n",
       "2                     0.00             0.0             0.000   \n",
       "3                     5.36             NaN               NaN   \n",
       "4                      NaN             NaN               NaN   \n",
       "...                    ...             ...               ...   \n",
       "320767                 NaN             NaN               NaN   \n",
       "320768                0.00             0.0             0.000   \n",
       "320769                 NaN             NaN               NaN   \n",
       "320770                 NaN             NaN               NaN   \n",
       "320771                 NaN             NaN               NaN   \n",
       "\n",
       "        carbohydrates_100g  sugars_100g  fiber_100g  proteins_100g  salt_100g  \\\n",
       "0                      NaN          NaN         NaN            NaN        NaN   \n",
       "1                    64.29        14.29         3.6           3.57    0.00000   \n",
       "2                    60.71        17.86         7.1          17.86    0.63500   \n",
       "3                    17.86         3.57         7.1          17.86    1.22428   \n",
       "4                    77.14          NaN         5.7           8.57        NaN   \n",
       "...                    ...          ...         ...            ...        ...   \n",
       "320767                 NaN          NaN         NaN            NaN        NaN   \n",
       "320768                0.00         0.00         0.0           0.00    0.00000   \n",
       "320769                 NaN          NaN         NaN            NaN        NaN   \n",
       "320770                 NaN          NaN         NaN            NaN        NaN   \n",
       "320771                0.00         0.00         NaN           0.00    0.00000   \n",
       "\n",
       "        sodium_100g  energy_100g  \n",
       "0               NaN          NaN  \n",
       "1             0.000       2243.0  \n",
       "2             0.250       1941.0  \n",
       "3             0.482       2540.0  \n",
       "4               NaN       1552.0  \n",
       "...             ...          ...  \n",
       "320767          NaN          NaN  \n",
       "320768        0.000          0.0  \n",
       "320769          NaN          NaN  \n",
       "320770          NaN          NaN  \n",
       "320771        0.000       2092.0  \n",
       "\n",
       "[320772 rows x 18 columns]"
      ]
     },
     "execution_count": 370,
     "metadata": {},
     "output_type": "execute_result"
    }
   ],
   "source": [
    "data= data.loc[: , ['product_name', 'brands', 'nutrition_grade_fr', 'pnns_groups_1', 'pnns_groups_2', 'nutrition-score-fr_100g', 'nutrition-score-uk_100g', 'fat_100g',\n",
    "  'saturated-fat_100g', 'trans-fat_100g','cholesterol_100g','carbohydrates_100g', 'sugars_100g', 'fiber_100g', 'proteins_100g', 'salt_100g','sodium_100g', 'energy_100g' ] ]\n",
    "data"
   ]
  },
  {
   "cell_type": "markdown",
   "id": "ecddcc81",
   "metadata": {},
   "source": [
    "# Traitement des colonnes semblables"
   ]
  },
  {
   "cell_type": "markdown",
   "id": "fb83b861",
   "metadata": {},
   "source": [
    "**a/ Catégories d'un produit pnns_groups_1 et pnns_groups_2**"
   ]
  },
  {
   "cell_type": "code",
   "execution_count": 371,
   "id": "aa21e2e2",
   "metadata": {},
   "outputs": [
    {
     "data": {
      "text/plain": [
       "unknown                    22624\n",
       "Sugary snacks              12368\n",
       "Beverages                   9033\n",
       "Milk and dairy products     8825\n",
       "Cereals and potatoes        8442\n",
       "Fish Meat Eggs              8041\n",
       "Composite foods             6747\n",
       "Fruits and vegetables       5908\n",
       "Fat and sauces              5216\n",
       "Salty snacks                2809\n",
       "fruits-and-vegetables        987\n",
       "sugary-snacks                496\n",
       "cereals-and-potatoes          16\n",
       "salty-snacks                   1\n",
       "Name: pnns_groups_1, dtype: int64"
      ]
     },
     "execution_count": 371,
     "metadata": {},
     "output_type": "execute_result"
    }
   ],
   "source": [
    "data.pnns_groups_1.value_counts()"
   ]
  },
  {
   "cell_type": "code",
   "execution_count": 372,
   "id": "a10dfbdf",
   "metadata": {},
   "outputs": [
    {
     "data": {
      "text/plain": [
       "unknown                             22624\n",
       "One-dish meals                       5546\n",
       "Sweets                               4698\n",
       "Biscuits and cakes                   4561\n",
       "Non-sugared beverages                4302\n",
       "Cereals                              4106\n",
       "Cheese                               4024\n",
       "Dressings and sauces                 3602\n",
       "Milk and yogurt                      3297\n",
       "Processed meat                       3247\n",
       "Chocolate products                   3109\n",
       "Alcoholic beverages                  2909\n",
       "Vegetables                           2840\n",
       "Fish and seafood                     2638\n",
       "Sweetened beverages                  2170\n",
       "Appetizers                           2101\n",
       "Fruits                               2068\n",
       "Fruit juices                         1924\n",
       "Bread                                1838\n",
       "Meat                                 1694\n",
       "Fats                                 1614\n",
       "Breakfast cereals                    1408\n",
       "vegetables                            934\n",
       "Legumes                               925\n",
       "Dairy desserts                        783\n",
       "Ice cream                             721\n",
       "Nuts                                  689\n",
       "Sandwich                              686\n",
       "Pizza pies and quiche                 515\n",
       "Soups                                 503\n",
       "Dried fruits                          497\n",
       "pastries                              496\n",
       "Eggs                                  462\n",
       "Fruit nectars                         376\n",
       "Artificially sweetened beverages      261\n",
       "Potatoes                              165\n",
       "Tripe dishes                           69\n",
       "fruits                                 53\n",
       "Salty and fatty products               19\n",
       "cereals                                12\n",
       "legumes                                 4\n",
       "nuts                                    1\n",
       "Name: pnns_groups_2, dtype: int64"
      ]
     },
     "execution_count": 372,
     "metadata": {},
     "output_type": "execute_result"
    }
   ],
   "source": [
    "data.pnns_groups_2.value_counts()"
   ]
  },
  {
   "cell_type": "code",
   "execution_count": 373,
   "id": "fc5ae66c",
   "metadata": {},
   "outputs": [],
   "source": [
    "categories = data[['pnns_groups_1', 'pnns_groups_2']]"
   ]
  },
  {
   "cell_type": "code",
   "execution_count": 374,
   "id": "5e914daf",
   "metadata": {},
   "outputs": [
    {
     "name": "stdout",
     "output_type": "stream",
     "text": [
      "Nombre de catégories différentes:\n",
      "pnns_groups_1 : 14\n",
      "pnns_groups_2 : 42\n"
     ]
    }
   ],
   "source": [
    "print(\"Nombre de catégories différentes:\")\n",
    "for col in categories:\n",
    "    print(f\"{col} : {len(categories[col].value_counts())}\")"
   ]
  },
  {
   "cell_type": "markdown",
   "id": "5fce150c",
   "metadata": {},
   "source": [
    "pnns_groups_1' semble être le meilleur choix avec un nombre de catégories plus réduit, ce qui permettra éventuellement de faire des analyses dessus."
   ]
  },
  {
   "cell_type": "code",
   "execution_count": 375,
   "id": "7ea7678d",
   "metadata": {},
   "outputs": [
    {
     "data": {
      "text/plain": [
       "unknown                    22624\n",
       "Sugary snacks              12368\n",
       "Beverages                   9033\n",
       "Milk and dairy products     8825\n",
       "Cereals and potatoes        8442\n",
       "Fish Meat Eggs              8041\n",
       "Composite foods             6747\n",
       "Fruits and vegetables       5908\n",
       "Fat and sauces              5216\n",
       "Salty snacks                2809\n",
       "fruits-and-vegetables        987\n",
       "sugary-snacks                496\n",
       "cereals-and-potatoes          16\n",
       "salty-snacks                   1\n",
       "Name: pnns_groups_1, dtype: int64"
      ]
     },
     "execution_count": 375,
     "metadata": {},
     "output_type": "execute_result"
    }
   ],
   "source": [
    "data['pnns_groups_1'].value_counts()"
   ]
  },
  {
   "cell_type": "code",
   "execution_count": 376,
   "id": "f4d5b8c3",
   "metadata": {},
   "outputs": [],
   "source": [
    "# Pour harmoniser les catégories\n",
    "data['pnns_groups_1'] = data['pnns_groups_1'].replace(\n",
    "    'fruits-and-vegetables', 'Fruits and vegetables').replace(\n",
    "    'sugary-snacks', 'Sugary snacks').replace(\n",
    "    'cereals-and-potatoes', 'Cereals and potatoes').replace(\n",
    "    'salty-snacks', 'Salty snacks')"
   ]
  },
  {
   "cell_type": "code",
   "execution_count": 377,
   "id": "c964a214",
   "metadata": {},
   "outputs": [
    {
     "data": {
      "text/plain": [
       "unknown                    22624\n",
       "Sugary snacks              12864\n",
       "Beverages                   9033\n",
       "Milk and dairy products     8825\n",
       "Cereals and potatoes        8458\n",
       "Fish Meat Eggs              8041\n",
       "Fruits and vegetables       6895\n",
       "Composite foods             6747\n",
       "Fat and sauces              5216\n",
       "Salty snacks                2810\n",
       "Name: pnns_groups_1, dtype: int64"
      ]
     },
     "execution_count": 377,
     "metadata": {},
     "output_type": "execute_result"
    }
   ],
   "source": [
    "data['pnns_groups_1'].value_counts()"
   ]
  },
  {
   "cell_type": "code",
   "execution_count": 378,
   "id": "8d8933ab",
   "metadata": {},
   "outputs": [
    {
     "data": {
      "text/plain": [
       "(320772, 17)"
      ]
     },
     "execution_count": 378,
     "metadata": {},
     "output_type": "execute_result"
    }
   ],
   "source": [
    "data = data.drop(['pnns_groups_2'], axis=1)\n",
    "data.shape"
   ]
  },
  {
   "cell_type": "code",
   "execution_count": 379,
   "id": "9824465c",
   "metadata": {},
   "outputs": [],
   "source": [
    "# changer le nom de quelque colonnes\n",
    "data.rename(columns={'pnns_groups_1': 'pnns1',\n",
    "                   'nutrition-score-fr_100g':'nutriscore_fr'},\n",
    "          inplace=True)\n"
   ]
  },
  {
   "cell_type": "markdown",
   "id": "82ab6022",
   "metadata": {},
   "source": [
    "**b/ Entre les scores nutritionnels FR et UK**"
   ]
  },
  {
   "cell_type": "markdown",
   "id": "6296c60c",
   "metadata": {},
   "source": [
    "Il existe deux colonnes: 'nutrition-score-fr_100g' et 'nutrition-score-uk_100g' qui sont très proches mais utilisent un barème un peu différent."
   ]
  },
  {
   "cell_type": "code",
   "execution_count": 380,
   "id": "2c3c9f8b",
   "metadata": {},
   "outputs": [
    {
     "name": "stdout",
     "output_type": "stream",
     "text": [
      "Les 2 scores sont identiques dans 66.37% des cas\n"
     ]
    }
   ],
   "source": [
    "mask = data['nutriscore_fr'] == data['nutrition-score-uk_100g']\n",
    "\n",
    "print(f\"Les 2 scores sont identiques dans \"\n",
    "      f\"{len(data[mask])/data.shape[0]*100:.2f}% des cas\")"
   ]
  },
  {
   "cell_type": "markdown",
   "id": "1a23e414",
   "metadata": {},
   "source": [
    "Le score nutritionnel français étant plus adapté au marché français, nous conserverons celui-là."
   ]
  },
  {
   "cell_type": "code",
   "execution_count": 381,
   "id": "e7039886",
   "metadata": {},
   "outputs": [
    {
     "data": {
      "text/plain": [
       "(320772, 16)"
      ]
     },
     "execution_count": 381,
     "metadata": {},
     "output_type": "execute_result"
    }
   ],
   "source": [
    "data = data.drop(['nutrition-score-uk_100g'], axis=1)\n",
    "data.shape\n"
   ]
  },
  {
   "cell_type": "code",
   "execution_count": 382,
   "id": "3989177d",
   "metadata": {},
   "outputs": [
    {
     "data": {
      "image/png": "[encoded data removed]",
      "text/plain": [
       "<Figure size 1152x864 with 2 Axes>"
      ]
     },
     "metadata": {},
     "output_type": "display_data"
    }
   ],
   "source": [
    "fig, (ax1, ax2) = plt.subplots(nrows=1, ncols=2, figsize=(16, 12))\n",
    "fig.suptitle(\"Proportion de NaN dans chaque colonne (%)\", size=30)\n",
    "\n",
    "count = data.isnull().mean(axis=0)\n",
    "ax1.barh(y=count[:80].index, width=count[:80].values, color='#FB9A99', alpha=0.5)\n",
    "ax1.axvline(x=0.6)\n",
    "ax2.barh(y=count[80:].index, width=count[80:].values, color='#FB9A99', alpha=0.5)\n",
    "ax2.axvline(x=0.6)\n",
    "\n",
    "plt.tight_layout(w_pad=0,pad=5)\n",
    "plt.show()"
   ]
  },
  {
   "cell_type": "markdown",
   "id": "01df1eb6",
   "metadata": {},
   "source": [
    " # Traitement des valeurs aberrantes (outliers)"
   ]
  },
  {
   "cell_type": "code",
   "execution_count": 383,
   "id": "0d5f2c0b",
   "metadata": {},
   "outputs": [
    {
     "data": {
      "text/html": [
       "<div>\n",
       "<style scoped>\n",
       "    .dataframe tbody tr th:only-of-type {\n",
       "        vertical-align: middle;\n",
       "    }\n",
       "\n",
       "    .dataframe tbody tr th {\n",
       "        vertical-align: top;\n",
       "    }\n",
       "\n",
       "    .dataframe thead th {\n",
       "        text-align: right;\n",
       "    }\n",
       "</style>\n",
       "<table border=\"1\" class=\"dataframe\">\n",
       "  <thead>\n",
       "    <tr style=\"text-align: right;\">\n",
       "      <th></th>\n",
       "      <th>product_name</th>\n",
       "      <th>brands</th>\n",
       "      <th>nutrition_grade_fr</th>\n",
       "      <th>pnns1</th>\n",
       "      <th>nutriscore_fr</th>\n",
       "      <th>fat_100g</th>\n",
       "      <th>saturated-fat_100g</th>\n",
       "      <th>trans-fat_100g</th>\n",
       "      <th>cholesterol_100g</th>\n",
       "      <th>carbohydrates_100g</th>\n",
       "      <th>sugars_100g</th>\n",
       "      <th>fiber_100g</th>\n",
       "      <th>proteins_100g</th>\n",
       "      <th>salt_100g</th>\n",
       "      <th>sodium_100g</th>\n",
       "      <th>energy_100g</th>\n",
       "    </tr>\n",
       "  </thead>\n",
       "  <tbody>\n",
       "    <tr>\n",
       "      <th>count</th>\n",
       "      <td>303010</td>\n",
       "      <td>292360</td>\n",
       "      <td>221210</td>\n",
       "      <td>91513</td>\n",
       "      <td>221210.000000</td>\n",
       "      <td>243891.000000</td>\n",
       "      <td>229554.000000</td>\n",
       "      <td>143298.000000</td>\n",
       "      <td>144090.000000</td>\n",
       "      <td>243588.000000</td>\n",
       "      <td>244971.000000</td>\n",
       "      <td>200886.000000</td>\n",
       "      <td>259922.000000</td>\n",
       "      <td>255510.000000</td>\n",
       "      <td>255463.000000</td>\n",
       "      <td>2.611130e+05</td>\n",
       "    </tr>\n",
       "    <tr>\n",
       "      <th>unique</th>\n",
       "      <td>221347</td>\n",
       "      <td>58784</td>\n",
       "      <td>5</td>\n",
       "      <td>10</td>\n",
       "      <td>NaN</td>\n",
       "      <td>NaN</td>\n",
       "      <td>NaN</td>\n",
       "      <td>NaN</td>\n",
       "      <td>NaN</td>\n",
       "      <td>NaN</td>\n",
       "      <td>NaN</td>\n",
       "      <td>NaN</td>\n",
       "      <td>NaN</td>\n",
       "      <td>NaN</td>\n",
       "      <td>NaN</td>\n",
       "      <td>NaN</td>\n",
       "    </tr>\n",
       "    <tr>\n",
       "      <th>top</th>\n",
       "      <td>Ice Cream</td>\n",
       "      <td>Carrefour</td>\n",
       "      <td>d</td>\n",
       "      <td>unknown</td>\n",
       "      <td>NaN</td>\n",
       "      <td>NaN</td>\n",
       "      <td>NaN</td>\n",
       "      <td>NaN</td>\n",
       "      <td>NaN</td>\n",
       "      <td>NaN</td>\n",
       "      <td>NaN</td>\n",
       "      <td>NaN</td>\n",
       "      <td>NaN</td>\n",
       "      <td>NaN</td>\n",
       "      <td>NaN</td>\n",
       "      <td>NaN</td>\n",
       "    </tr>\n",
       "    <tr>\n",
       "      <th>freq</th>\n",
       "      <td>410</td>\n",
       "      <td>2978</td>\n",
       "      <td>62763</td>\n",
       "      <td>22624</td>\n",
       "      <td>NaN</td>\n",
       "      <td>NaN</td>\n",
       "      <td>NaN</td>\n",
       "      <td>NaN</td>\n",
       "      <td>NaN</td>\n",
       "      <td>NaN</td>\n",
       "      <td>NaN</td>\n",
       "      <td>NaN</td>\n",
       "      <td>NaN</td>\n",
       "      <td>NaN</td>\n",
       "      <td>NaN</td>\n",
       "      <td>NaN</td>\n",
       "    </tr>\n",
       "    <tr>\n",
       "      <th>mean</th>\n",
       "      <td>NaN</td>\n",
       "      <td>NaN</td>\n",
       "      <td>NaN</td>\n",
       "      <td>NaN</td>\n",
       "      <td>9.165535</td>\n",
       "      <td>12.730379</td>\n",
       "      <td>5.129932</td>\n",
       "      <td>0.073476</td>\n",
       "      <td>0.020071</td>\n",
       "      <td>32.073981</td>\n",
       "      <td>16.003484</td>\n",
       "      <td>2.862111</td>\n",
       "      <td>7.075940</td>\n",
       "      <td>2.028624</td>\n",
       "      <td>0.798815</td>\n",
       "      <td>1.141915e+03</td>\n",
       "    </tr>\n",
       "    <tr>\n",
       "      <th>std</th>\n",
       "      <td>NaN</td>\n",
       "      <td>NaN</td>\n",
       "      <td>NaN</td>\n",
       "      <td>NaN</td>\n",
       "      <td>9.055903</td>\n",
       "      <td>17.578747</td>\n",
       "      <td>8.014238</td>\n",
       "      <td>1.540223</td>\n",
       "      <td>0.358062</td>\n",
       "      <td>29.731719</td>\n",
       "      <td>22.327284</td>\n",
       "      <td>12.867578</td>\n",
       "      <td>8.409054</td>\n",
       "      <td>128.269454</td>\n",
       "      <td>50.504428</td>\n",
       "      <td>6.447154e+03</td>\n",
       "    </tr>\n",
       "    <tr>\n",
       "      <th>min</th>\n",
       "      <td>NaN</td>\n",
       "      <td>NaN</td>\n",
       "      <td>NaN</td>\n",
       "      <td>NaN</td>\n",
       "      <td>-15.000000</td>\n",
       "      <td>0.000000</td>\n",
       "      <td>0.000000</td>\n",
       "      <td>-3.570000</td>\n",
       "      <td>0.000000</td>\n",
       "      <td>0.000000</td>\n",
       "      <td>-17.860000</td>\n",
       "      <td>-6.700000</td>\n",
       "      <td>-800.000000</td>\n",
       "      <td>0.000000</td>\n",
       "      <td>0.000000</td>\n",
       "      <td>0.000000e+00</td>\n",
       "    </tr>\n",
       "    <tr>\n",
       "      <th>25%</th>\n",
       "      <td>NaN</td>\n",
       "      <td>NaN</td>\n",
       "      <td>NaN</td>\n",
       "      <td>NaN</td>\n",
       "      <td>1.000000</td>\n",
       "      <td>0.000000</td>\n",
       "      <td>0.000000</td>\n",
       "      <td>0.000000</td>\n",
       "      <td>0.000000</td>\n",
       "      <td>6.000000</td>\n",
       "      <td>1.300000</td>\n",
       "      <td>0.000000</td>\n",
       "      <td>0.700000</td>\n",
       "      <td>0.063500</td>\n",
       "      <td>0.025000</td>\n",
       "      <td>3.770000e+02</td>\n",
       "    </tr>\n",
       "    <tr>\n",
       "      <th>50%</th>\n",
       "      <td>NaN</td>\n",
       "      <td>NaN</td>\n",
       "      <td>NaN</td>\n",
       "      <td>NaN</td>\n",
       "      <td>10.000000</td>\n",
       "      <td>5.000000</td>\n",
       "      <td>1.790000</td>\n",
       "      <td>0.000000</td>\n",
       "      <td>0.000000</td>\n",
       "      <td>20.600000</td>\n",
       "      <td>5.710000</td>\n",
       "      <td>1.500000</td>\n",
       "      <td>4.760000</td>\n",
       "      <td>0.581660</td>\n",
       "      <td>0.229000</td>\n",
       "      <td>1.100000e+03</td>\n",
       "    </tr>\n",
       "    <tr>\n",
       "      <th>75%</th>\n",
       "      <td>NaN</td>\n",
       "      <td>NaN</td>\n",
       "      <td>NaN</td>\n",
       "      <td>NaN</td>\n",
       "      <td>16.000000</td>\n",
       "      <td>20.000000</td>\n",
       "      <td>7.140000</td>\n",
       "      <td>0.000000</td>\n",
       "      <td>0.020000</td>\n",
       "      <td>58.330000</td>\n",
       "      <td>24.000000</td>\n",
       "      <td>3.600000</td>\n",
       "      <td>10.000000</td>\n",
       "      <td>1.374140</td>\n",
       "      <td>0.541000</td>\n",
       "      <td>1.674000e+03</td>\n",
       "    </tr>\n",
       "    <tr>\n",
       "      <th>max</th>\n",
       "      <td>NaN</td>\n",
       "      <td>NaN</td>\n",
       "      <td>NaN</td>\n",
       "      <td>NaN</td>\n",
       "      <td>40.000000</td>\n",
       "      <td>714.290000</td>\n",
       "      <td>550.000000</td>\n",
       "      <td>369.000000</td>\n",
       "      <td>95.238000</td>\n",
       "      <td>2916.670000</td>\n",
       "      <td>3520.000000</td>\n",
       "      <td>5380.000000</td>\n",
       "      <td>430.000000</td>\n",
       "      <td>64312.800000</td>\n",
       "      <td>25320.000000</td>\n",
       "      <td>3.251373e+06</td>\n",
       "    </tr>\n",
       "  </tbody>\n",
       "</table>\n",
       "</div>"
      ],
      "text/plain": [
       "       product_name     brands nutrition_grade_fr    pnns1  nutriscore_fr  \\\n",
       "count        303010     292360             221210    91513  221210.000000   \n",
       "unique       221347      58784                  5       10            NaN   \n",
       "top       Ice Cream  Carrefour                  d  unknown            NaN   \n",
       "freq            410       2978              62763    22624            NaN   \n",
       "mean            NaN        NaN                NaN      NaN       9.165535   \n",
       "std             NaN        NaN                NaN      NaN       9.055903   \n",
       "min             NaN        NaN                NaN      NaN     -15.000000   \n",
       "25%             NaN        NaN                NaN      NaN       1.000000   \n",
       "50%             NaN        NaN                NaN      NaN      10.000000   \n",
       "75%             NaN        NaN                NaN      NaN      16.000000   \n",
       "max             NaN        NaN                NaN      NaN      40.000000   \n",
       "\n",
       "             fat_100g  saturated-fat_100g  trans-fat_100g  cholesterol_100g  \\\n",
       "count   243891.000000       229554.000000   143298.000000     144090.000000   \n",
       "unique            NaN                 NaN             NaN               NaN   \n",
       "top               NaN                 NaN             NaN               NaN   \n",
       "freq              NaN                 NaN             NaN               NaN   \n",
       "mean        12.730379            5.129932        0.073476          0.020071   \n",
       "std         17.578747            8.014238        1.540223          0.358062   \n",
       "min          0.000000            0.000000       -3.570000          0.000000   \n",
       "25%          0.000000            0.000000        0.000000          0.000000   \n",
       "50%          5.000000            1.790000        0.000000          0.000000   \n",
       "75%         20.000000            7.140000        0.000000          0.020000   \n",
       "max        714.290000          550.000000      369.000000         95.238000   \n",
       "\n",
       "        carbohydrates_100g    sugars_100g     fiber_100g  proteins_100g  \\\n",
       "count        243588.000000  244971.000000  200886.000000  259922.000000   \n",
       "unique                 NaN            NaN            NaN            NaN   \n",
       "top                    NaN            NaN            NaN            NaN   \n",
       "freq                   NaN            NaN            NaN            NaN   \n",
       "mean             32.073981      16.003484       2.862111       7.075940   \n",
       "std              29.731719      22.327284      12.867578       8.409054   \n",
       "min               0.000000     -17.860000      -6.700000    -800.000000   \n",
       "25%               6.000000       1.300000       0.000000       0.700000   \n",
       "50%              20.600000       5.710000       1.500000       4.760000   \n",
       "75%              58.330000      24.000000       3.600000      10.000000   \n",
       "max            2916.670000    3520.000000    5380.000000     430.000000   \n",
       "\n",
       "            salt_100g    sodium_100g   energy_100g  \n",
       "count   255510.000000  255463.000000  2.611130e+05  \n",
       "unique            NaN            NaN           NaN  \n",
       "top               NaN            NaN           NaN  \n",
       "freq              NaN            NaN           NaN  \n",
       "mean         2.028624       0.798815  1.141915e+03  \n",
       "std        128.269454      50.504428  6.447154e+03  \n",
       "min          0.000000       0.000000  0.000000e+00  \n",
       "25%          0.063500       0.025000  3.770000e+02  \n",
       "50%          0.581660       0.229000  1.100000e+03  \n",
       "75%          1.374140       0.541000  1.674000e+03  \n",
       "max      64312.800000   25320.000000  3.251373e+06  "
      ]
     },
     "execution_count": 383,
     "metadata": {},
     "output_type": "execute_result"
    }
   ],
   "source": [
    "data.describe(include='all')"
   ]
  },
  {
   "cell_type": "markdown",
   "id": "2e06aece",
   "metadata": {},
   "source": [
    "**Examinons la distribution des valeurs pour les colonnes _100g.**"
   ]
  },
  {
   "cell_type": "code",
   "execution_count": 384,
   "id": "9c340422",
   "metadata": {},
   "outputs": [
    {
     "data": {
      "application/vnd.jupyter.widget-view+json": {
       "model_id": "e4943251edfa450a9512d0b45bb903bb",
       "version_major": 2,
       "version_minor": 0
      },
      "text/plain": [
       "interactive(children=(IntSlider(value=460, description='xmax', max=1000, min=10, step=50), Button(description=…"
      ]
     },
     "metadata": {},
     "output_type": "display_data"
    }
   ],
   "source": [
    "X_100g_cols = data.columns[(data.columns.str.contains('_100g'))&\\\n",
    "                         ~(data.columns.str.contains('energy'))]\n",
    "\n",
    "@interact_manual\n",
    "def plot_box_xlim(xmax=(10,1000,50)):\n",
    "    data[X_100g_cols].boxplot(vert=False, figsize=(18,10))\n",
    "    plt.gca().set(xlim=(0,xmax));"
   ]
  },
  {
   "cell_type": "markdown",
   "id": "f58501c7",
   "metadata": {},
   "source": [
    "**Nous devons nous débarrasser des valeurs inférieures à 0 et supérieures à 100**"
   ]
  },
  {
   "cell_type": "code",
   "execution_count": 385,
   "id": "4ad4efea",
   "metadata": {},
   "outputs": [],
   "source": [
    "#Changer les valeurs incohérentes en np.nan\n",
    "for c in X_100g_cols:\n",
    "    data.loc[:,c] = data[c].where(data[c].between(0,100), other=np.nan)"
   ]
  },
  {
   "cell_type": "markdown",
   "id": "d503f55a",
   "metadata": {},
   "source": [
    "**La somme de toutes les colonnes X_100g doit être inférieure à 100.**"
   ]
  },
  {
   "cell_type": "code",
   "execution_count": 386,
   "id": "8b07c649",
   "metadata": {},
   "outputs": [],
   "source": [
    "#les colonnes dont la somme doit être inférieure ou égale à 100\n",
    "sum_100g_cols = ['fat_100g', 'carbohydrates_100g', 'proteins_100g', 'salt_100g']\n",
    "#sous-colonnes\n",
    "fat_cols = [c for c in ['saturated_fat_100g', 'trans-fat_100g', 'cholesterol_100g' ] if c in data.columns]\n",
    "carb_cols = [c for c in ['sugars_100g','fiber_100g'] if c in data.columns]\n",
    "salt_cols = ['sodium_100g']"
   ]
  },
  {
   "cell_type": "code",
   "execution_count": 387,
   "id": "96a23eba",
   "metadata": {},
   "outputs": [
    {
     "name": "stdout",
     "output_type": "stream",
     "text": [
      "****  SOUS COLONNES  ****\n",
      "'fat_100g' 2126\n",
      "'carbohydrates_100g' 15423\n",
      "'sodium_100g' 4\n"
     ]
    }
   ],
   "source": [
    "# Vérification des lignes où la somme des composants dépasse le total\n",
    "print('****  SOUS COLONNES  ****')\n",
    "# fat_100g\n",
    "m_fat_out = data['fat_100g']<(data[fat_cols].sum(axis='columns'))\n",
    "print(\"'fat_100g'\", data[m_fat_out].shape[0])\n",
    "# carbohydrates_100g\n",
    "m_carb_out = data['carbohydrates_100g']<(data[carb_cols].sum(axis='columns'))\n",
    "print(\"'carbohydrates_100g'\", data[m_carb_out].shape[0])\n",
    "# salt_100g\n",
    "m_salt_out = data['salt_100g']>(data[salt_cols].sum(axis='columns')/0.387)\n",
    "print(\"'sodium_100g'\", data[m_salt_out].shape[0])"
   ]
  },
  {
   "cell_type": "code",
   "execution_count": 388,
   "id": "868bc8b1",
   "metadata": {},
   "outputs": [],
   "source": [
    "# Mettre les sous-colonnes à NaN où (XXX_sum > XXX)\n",
    "data.loc[:,fat_cols] = data[fat_cols].where(~m_fat_out, other=np.nan)\n",
    "data.loc[:,carb_cols] = data[carb_cols].where(~m_carb_out, other=np.nan)\n",
    "data.loc[:,salt_cols] = data[salt_cols].where(~m_salt_out, other=np.nan)"
   ]
  },
  {
   "cell_type": "code",
   "execution_count": 389,
   "id": "0b8c3a85",
   "metadata": {},
   "outputs": [
    {
     "name": "stdout",
     "output_type": "stream",
     "text": [
      "\n",
      "****  TOTAL MAIN COLUMNS  ****\n",
      "nb de ligne ou sum > 100:  4483\n",
      "nb de ligne ou sum = 0:  63456\n",
      "nb de ligne ou 0 > sum > 100:  316289\n"
     ]
    }
   ],
   "source": [
    "# Vérification des lignes où la somme des composants> 100\n",
    "m_out = data[sum_100g_cols].sum(axis='columns')>100\n",
    "m_0 = data[sum_100g_cols].sum(axis='columns')==0\n",
    "m_0_100 = data[sum_100g_cols].sum(axis='columns').between(0,100)\n",
    "sum_100g = data[sum_100g_cols].sum(axis='columns')\n",
    "\n",
    "print('\\n****  TOTAL MAIN COLUMNS  ****')\n",
    "print(\"nb de ligne ou sum > 100: \", data[sum_100g_cols][m_out].shape[0])\n",
    "print(\"nb de ligne ou sum = 0: \", data[sum_100g_cols][m_0].shape[0])\n",
    "print(\"nb de ligne ou 0 > sum > 100: \", data[sum_100g_cols][m_0_100].shape[0])"
   ]
  },
  {
   "cell_type": "code",
   "execution_count": 390,
   "id": "a57d90ac",
   "metadata": {},
   "outputs": [],
   "source": [
    "# Mettre les colonnes où la somme des composants nutritionnels dépasse 100 à NaN\n",
    "data.loc[:,sum_100g_cols] = data[sum_100g_cols].where(~m_out, other=np.nan)"
   ]
  },
  {
   "cell_type": "markdown",
   "id": "ffaa6196",
   "metadata": {},
   "source": [
    "**Colonnes \"énergie_100g\" doit etre <3765**"
   ]
  },
  {
   "cell_type": "code",
   "execution_count": 391,
   "id": "d2f6c47e",
   "metadata": {},
   "outputs": [],
   "source": [
    "energy_cols=['energy_100g']\n",
    "nut_comp_cols = ['fat_100g', 'carbohydrates_100g', 'proteins_100g',\\\n",
    "                 'fiber_100g']\n",
    "main_nut_comp_cols = ['fat_100g','carbohydrates_100g', 'proteins_100g']"
   ]
  },
  {
   "cell_type": "code",
   "execution_count": 392,
   "id": "348cb7ef",
   "metadata": {},
   "outputs": [
    {
     "data": {
      "text/plain": [
       "[(-100.0, 20000.0)]"
      ]
     },
     "execution_count": 392,
     "metadata": {},
     "output_type": "execute_result"
    },
    {
     "data": {
      "image/png": "[encoded data removed]",
      "text/plain": [
       "<Figure size 864x144 with 1 Axes>"
      ]
     },
     "metadata": {},
     "output_type": "display_data"
    }
   ],
   "source": [
    "data[energy_cols].boxplot(vert=False, figsize=(12,2));\n",
    "plt.gca().set(xlim=(-100,20000))"
   ]
  },
  {
   "cell_type": "markdown",
   "id": "4ae3674b",
   "metadata": {},
   "source": [
    "On met à NaN toutes les valeurs non comprises dans [0,3765],un produit ne peut pas être plus énergétique que 100g de matières grasses pures, dont l'énergie pour 100g est de 900kcal ou 3765kJ."
   ]
  },
  {
   "cell_type": "code",
   "execution_count": 393,
   "id": "d65b6cf8",
   "metadata": {},
   "outputs": [
    {
     "data": {
      "text/html": [
       "<div>\n",
       "<style scoped>\n",
       "    .dataframe tbody tr th:only-of-type {\n",
       "        vertical-align: middle;\n",
       "    }\n",
       "\n",
       "    .dataframe tbody tr th {\n",
       "        vertical-align: top;\n",
       "    }\n",
       "\n",
       "    .dataframe thead th {\n",
       "        text-align: right;\n",
       "    }\n",
       "</style>\n",
       "<table border=\"1\" class=\"dataframe\">\n",
       "  <thead>\n",
       "    <tr style=\"text-align: right;\">\n",
       "      <th></th>\n",
       "      <th>product_name</th>\n",
       "      <th>brands</th>\n",
       "      <th>nutrition_grade_fr</th>\n",
       "      <th>pnns1</th>\n",
       "      <th>nutriscore_fr</th>\n",
       "      <th>fat_100g</th>\n",
       "      <th>saturated-fat_100g</th>\n",
       "      <th>trans-fat_100g</th>\n",
       "      <th>cholesterol_100g</th>\n",
       "      <th>carbohydrates_100g</th>\n",
       "      <th>sugars_100g</th>\n",
       "      <th>fiber_100g</th>\n",
       "      <th>proteins_100g</th>\n",
       "      <th>salt_100g</th>\n",
       "      <th>sodium_100g</th>\n",
       "      <th>energy_100g</th>\n",
       "    </tr>\n",
       "  </thead>\n",
       "  <tbody>\n",
       "    <tr>\n",
       "      <th>772</th>\n",
       "      <td>Ginger Candy Sweetened With Raw Cane</td>\n",
       "      <td>Reed's  Inc.</td>\n",
       "      <td>NaN</td>\n",
       "      <td>NaN</td>\n",
       "      <td>NaN</td>\n",
       "      <td>0.0</td>\n",
       "      <td>NaN</td>\n",
       "      <td>NaN</td>\n",
       "      <td>NaN</td>\n",
       "      <td>90.0</td>\n",
       "      <td>90.0</td>\n",
       "      <td>NaN</td>\n",
       "      <td>0.0</td>\n",
       "      <td>0.00000</td>\n",
       "      <td>0.000000</td>\n",
       "      <td>4435.0</td>\n",
       "    </tr>\n",
       "    <tr>\n",
       "      <th>5440</th>\n",
       "      <td>Traditional Dusseldorf Mustard</td>\n",
       "      <td>Roundy's</td>\n",
       "      <td>NaN</td>\n",
       "      <td>NaN</td>\n",
       "      <td>NaN</td>\n",
       "      <td>0.0</td>\n",
       "      <td>NaN</td>\n",
       "      <td>NaN</td>\n",
       "      <td>NaN</td>\n",
       "      <td>0.0</td>\n",
       "      <td>0.0</td>\n",
       "      <td>NaN</td>\n",
       "      <td>0.0</td>\n",
       "      <td>3.30200</td>\n",
       "      <td>1.300000</td>\n",
       "      <td>5690.0</td>\n",
       "    </tr>\n",
       "    <tr>\n",
       "      <th>14399</th>\n",
       "      <td>Honey Peanuts</td>\n",
       "      <td>Big Y Foods  Inc.</td>\n",
       "      <td>e</td>\n",
       "      <td>NaN</td>\n",
       "      <td>20.0</td>\n",
       "      <td>NaN</td>\n",
       "      <td>10.71</td>\n",
       "      <td>0.0</td>\n",
       "      <td>0.0</td>\n",
       "      <td>NaN</td>\n",
       "      <td>NaN</td>\n",
       "      <td>NaN</td>\n",
       "      <td>NaN</td>\n",
       "      <td>NaN</td>\n",
       "      <td>0.232000</td>\n",
       "      <td>4335.0</td>\n",
       "    </tr>\n",
       "    <tr>\n",
       "      <th>15660</th>\n",
       "      <td>Tamalito Candy</td>\n",
       "      <td>Rainbow Games Inc</td>\n",
       "      <td>e</td>\n",
       "      <td>NaN</td>\n",
       "      <td>21.0</td>\n",
       "      <td>0.0</td>\n",
       "      <td>0.00</td>\n",
       "      <td>0.0</td>\n",
       "      <td>0.0</td>\n",
       "      <td>90.0</td>\n",
       "      <td>80.0</td>\n",
       "      <td>0.0</td>\n",
       "      <td>0.0</td>\n",
       "      <td>0.40640</td>\n",
       "      <td>0.160000</td>\n",
       "      <td>5439.0</td>\n",
       "    </tr>\n",
       "    <tr>\n",
       "      <th>19668</th>\n",
       "      <td>Canola &amp; Olive Spray Oil</td>\n",
       "      <td>The Hain Celestial Group  Inc.</td>\n",
       "      <td>NaN</td>\n",
       "      <td>NaN</td>\n",
       "      <td>NaN</td>\n",
       "      <td>100.0</td>\n",
       "      <td>0.00</td>\n",
       "      <td>0.0</td>\n",
       "      <td>0.0</td>\n",
       "      <td>0.0</td>\n",
       "      <td>NaN</td>\n",
       "      <td>NaN</td>\n",
       "      <td>0.0</td>\n",
       "      <td>0.00000</td>\n",
       "      <td>0.000000</td>\n",
       "      <td>4184.0</td>\n",
       "    </tr>\n",
       "    <tr>\n",
       "      <th>...</th>\n",
       "      <td>...</td>\n",
       "      <td>...</td>\n",
       "      <td>...</td>\n",
       "      <td>...</td>\n",
       "      <td>...</td>\n",
       "      <td>...</td>\n",
       "      <td>...</td>\n",
       "      <td>...</td>\n",
       "      <td>...</td>\n",
       "      <td>...</td>\n",
       "      <td>...</td>\n",
       "      <td>...</td>\n",
       "      <td>...</td>\n",
       "      <td>...</td>\n",
       "      <td>...</td>\n",
       "      <td>...</td>\n",
       "    </tr>\n",
       "    <tr>\n",
       "      <th>313506</th>\n",
       "      <td>Nusco, Chocolate Spread, Chocolate</td>\n",
       "      <td>Brinkers</td>\n",
       "      <td>e</td>\n",
       "      <td>NaN</td>\n",
       "      <td>25.0</td>\n",
       "      <td>NaN</td>\n",
       "      <td>NaN</td>\n",
       "      <td>NaN</td>\n",
       "      <td>NaN</td>\n",
       "      <td>NaN</td>\n",
       "      <td>NaN</td>\n",
       "      <td>NaN</td>\n",
       "      <td>NaN</td>\n",
       "      <td>0.01016</td>\n",
       "      <td>0.004000</td>\n",
       "      <td>231199.0</td>\n",
       "    </tr>\n",
       "    <tr>\n",
       "      <th>313852</th>\n",
       "      <td>Cornetto Mini X8 Fruit</td>\n",
       "      <td>Miko</td>\n",
       "      <td>e</td>\n",
       "      <td>NaN</td>\n",
       "      <td>25.0</td>\n",
       "      <td>NaN</td>\n",
       "      <td>13.00</td>\n",
       "      <td>NaN</td>\n",
       "      <td>NaN</td>\n",
       "      <td>NaN</td>\n",
       "      <td>24.0</td>\n",
       "      <td>0.0</td>\n",
       "      <td>3.7</td>\n",
       "      <td>0.12000</td>\n",
       "      <td>0.047244</td>\n",
       "      <td>5644.0</td>\n",
       "    </tr>\n",
       "    <tr>\n",
       "      <th>317171</th>\n",
       "      <td>NaN</td>\n",
       "      <td>NaN</td>\n",
       "      <td>NaN</td>\n",
       "      <td>NaN</td>\n",
       "      <td>NaN</td>\n",
       "      <td>0.0</td>\n",
       "      <td>NaN</td>\n",
       "      <td>NaN</td>\n",
       "      <td>NaN</td>\n",
       "      <td>18.1</td>\n",
       "      <td>8.8</td>\n",
       "      <td>NaN</td>\n",
       "      <td>3.8</td>\n",
       "      <td>0.00000</td>\n",
       "      <td>0.000000</td>\n",
       "      <td>87217.0</td>\n",
       "    </tr>\n",
       "    <tr>\n",
       "      <th>319695</th>\n",
       "      <td>Miel</td>\n",
       "      <td>Wescobee</td>\n",
       "      <td>e</td>\n",
       "      <td>NaN</td>\n",
       "      <td>20.0</td>\n",
       "      <td>NaN</td>\n",
       "      <td>0.00</td>\n",
       "      <td>NaN</td>\n",
       "      <td>NaN</td>\n",
       "      <td>NaN</td>\n",
       "      <td>82.0</td>\n",
       "      <td>0.0</td>\n",
       "      <td>0.0</td>\n",
       "      <td>0.00000</td>\n",
       "      <td>0.000000</td>\n",
       "      <td>5925.0</td>\n",
       "    </tr>\n",
       "    <tr>\n",
       "      <th>320561</th>\n",
       "      <td>Chicken Cup Of Noodles</td>\n",
       "      <td>Maggi</td>\n",
       "      <td>d</td>\n",
       "      <td>NaN</td>\n",
       "      <td>14.0</td>\n",
       "      <td>NaN</td>\n",
       "      <td>4.70</td>\n",
       "      <td>NaN</td>\n",
       "      <td>NaN</td>\n",
       "      <td>NaN</td>\n",
       "      <td>4.0</td>\n",
       "      <td>0.0</td>\n",
       "      <td>9.7</td>\n",
       "      <td>0.00000</td>\n",
       "      <td>0.000000</td>\n",
       "      <td>4602.0</td>\n",
       "    </tr>\n",
       "  </tbody>\n",
       "</table>\n",
       "<p>154 rows × 16 columns</p>\n",
       "</div>"
      ],
      "text/plain": [
       "                                product_name                          brands  \\\n",
       "772     Ginger Candy Sweetened With Raw Cane                    Reed's  Inc.   \n",
       "5440          Traditional Dusseldorf Mustard                        Roundy's   \n",
       "14399                          Honey Peanuts               Big Y Foods  Inc.   \n",
       "15660                         Tamalito Candy               Rainbow Games Inc   \n",
       "19668               Canola & Olive Spray Oil  The Hain Celestial Group  Inc.   \n",
       "...                                      ...                             ...   \n",
       "313506    Nusco, Chocolate Spread, Chocolate                        Brinkers   \n",
       "313852                Cornetto Mini X8 Fruit                            Miko   \n",
       "317171                                   NaN                             NaN   \n",
       "319695                                  Miel                        Wescobee   \n",
       "320561                Chicken Cup Of Noodles                           Maggi   \n",
       "\n",
       "       nutrition_grade_fr pnns1  nutriscore_fr  fat_100g  saturated-fat_100g  \\\n",
       "772                   NaN   NaN            NaN       0.0                 NaN   \n",
       "5440                  NaN   NaN            NaN       0.0                 NaN   \n",
       "14399                   e   NaN           20.0       NaN               10.71   \n",
       "15660                   e   NaN           21.0       0.0                0.00   \n",
       "19668                 NaN   NaN            NaN     100.0                0.00   \n",
       "...                   ...   ...            ...       ...                 ...   \n",
       "313506                  e   NaN           25.0       NaN                 NaN   \n",
       "313852                  e   NaN           25.0       NaN               13.00   \n",
       "317171                NaN   NaN            NaN       0.0                 NaN   \n",
       "319695                  e   NaN           20.0       NaN                0.00   \n",
       "320561                  d   NaN           14.0       NaN                4.70   \n",
       "\n",
       "        trans-fat_100g  cholesterol_100g  carbohydrates_100g  sugars_100g  \\\n",
       "772                NaN               NaN                90.0         90.0   \n",
       "5440               NaN               NaN                 0.0          0.0   \n",
       "14399              0.0               0.0                 NaN          NaN   \n",
       "15660              0.0               0.0                90.0         80.0   \n",
       "19668              0.0               0.0                 0.0          NaN   \n",
       "...                ...               ...                 ...          ...   \n",
       "313506             NaN               NaN                 NaN          NaN   \n",
       "313852             NaN               NaN                 NaN         24.0   \n",
       "317171             NaN               NaN                18.1          8.8   \n",
       "319695             NaN               NaN                 NaN         82.0   \n",
       "320561             NaN               NaN                 NaN          4.0   \n",
       "\n",
       "        fiber_100g  proteins_100g  salt_100g  sodium_100g  energy_100g  \n",
       "772            NaN            0.0    0.00000     0.000000       4435.0  \n",
       "5440           NaN            0.0    3.30200     1.300000       5690.0  \n",
       "14399          NaN            NaN        NaN     0.232000       4335.0  \n",
       "15660          0.0            0.0    0.40640     0.160000       5439.0  \n",
       "19668          NaN            0.0    0.00000     0.000000       4184.0  \n",
       "...            ...            ...        ...          ...          ...  \n",
       "313506         NaN            NaN    0.01016     0.004000     231199.0  \n",
       "313852         0.0            3.7    0.12000     0.047244       5644.0  \n",
       "317171         NaN            3.8    0.00000     0.000000      87217.0  \n",
       "319695         0.0            0.0    0.00000     0.000000       5925.0  \n",
       "320561         0.0            9.7    0.00000     0.000000       4602.0  \n",
       "\n",
       "[154 rows x 16 columns]"
      ]
     },
     "execution_count": 393,
     "metadata": {},
     "output_type": "execute_result"
    }
   ],
   "source": [
    "data[data['energy_100g']>4000]"
   ]
  },
  {
   "cell_type": "code",
   "execution_count": 394,
   "id": "0d8b4392",
   "metadata": {},
   "outputs": [
    {
     "name": "stdout",
     "output_type": "stream",
     "text": [
      "Total nb de NaN  avant:  59659\n",
      "Total nb de NaN  après:  60213\n"
     ]
    }
   ],
   "source": [
    "#Remplacer les valeurs aberrantes d'énergie non comprises dans [0,3765] par NaN \n",
    "print(\"Total nb de NaN  avant: \", data[energy_cols].isna().sum().sum())\n",
    "for c in energy_cols:\n",
    "    data.loc[:,c] = data[c].where(data[c].between(0,3765), other=np.nan)\n",
    "print(\"Total nb de NaN  après: \", data[energy_cols].isna().sum().sum())"
   ]
  },
  {
   "cell_type": "code",
   "execution_count": 395,
   "id": "5876dcbb",
   "metadata": {},
   "outputs": [
    {
     "data": {
      "text/plain": [
       "[(-100.0, 20000.0)]"
      ]
     },
     "execution_count": 395,
     "metadata": {},
     "output_type": "execute_result"
    },
    {
     "data": {
      "image/png": "[encoded data removed]",
      "text/plain": [
       "<Figure size 864x144 with 1 Axes>"
      ]
     },
     "metadata": {},
     "output_type": "display_data"
    }
   ],
   "source": [
    "data[energy_cols].boxplot(vert=False, figsize=(12,2));\n",
    "plt.gca().set(xlim=(-100,20000))"
   ]
  },
  {
   "cell_type": "markdown",
   "id": "6e4240c0",
   "metadata": {},
   "source": [
    "**Calcul d'une valeur energy_kcal_100g à partir des principaux composants nutritionnels :**"
   ]
  },
  {
   "cell_type": "markdown",
   "id": "d71c9fee",
   "metadata": {},
   "source": [
    "L'énergie pour 100 g peut être calculée ou évaluée si les données sur les lipides, les glucides et les protéines (qui sont la principale source d'énergie dans un produit) sont toutes disponibles."
   ]
  },
  {
   "cell_type": "markdown",
   "id": "dd097850",
   "metadata": {},
   "source": [
    "Voyons un aperçu de la quantité de données disponibles dont nous disposons :"
   ]
  },
  {
   "cell_type": "code",
   "execution_count": 396,
   "id": "49f503e5",
   "metadata": {},
   "outputs": [],
   "source": [
    "''' Fonction pour compter et afficher le nombre de valeurs manquantes '''\n",
    "def nb_rows_na(data, selcol, how):\n",
    "  if how == 'all':\n",
    "    ind = data[data[selcol].isna().all(axis=1)].index\n",
    "  elif how == 'any':\n",
    "    ind = data[data[selcol].isna().any(axis=1)].index\n",
    "  else:\n",
    "    ind=[]\n",
    "    print(\"WARNING: 'how' must be either all or any\")\n",
    "  li_ind = ind.to_list()\n",
    "  return len(li_ind), li_ind\n",
    "  \n",
    "def print_nb_rows_na(data, selcol, how):\n",
    "  print(\"- columns: \", selcol, \"\\nnb of null containing rows (\" + how + \"): \", nb_rows_na(data, selcol, how)[0])"
   ]
  },
  {
   "cell_type": "code",
   "execution_count": 397,
   "id": "238a1034",
   "metadata": {},
   "outputs": [
    {
     "name": "stdout",
     "output_type": "stream",
     "text": [
      "energy not filled : 60213\n",
      "all main nutri components filled : 237207\n",
      "energy not filled BUT all main nutri. comp filled : 749\n"
     ]
    }
   ],
   "source": [
    "# énergie pas remplie\n",
    "# tous les principaux nutriments composants remplis\n",
    "ind_no_energy = nb_rows_na(data, energy_cols, how='all')[1]\n",
    "ind_all_comp_filled = data.drop(index=nb_rows_na(data,\n",
    "                                                 main_nut_comp_cols,\n",
    "                                                 'any')[1]).index.to_list()\n",
    "ind_fat_filled = data.dropna(subset=['fat_100g']).index.to_list()\n",
    "ind_no_en_AND_main_comp_filled = list(set(ind_no_energy) & set(ind_all_comp_filled))\n",
    "print('energy not filled : {}\\nall main nutri components filled : {}'\\\n",
    "      .format(len(ind_no_energy), len(ind_all_comp_filled)))\n",
    "print('energy not filled BUT all main nutri. comp filled : {}'\\\n",
    "      .format(len(ind_no_en_AND_main_comp_filled)))"
   ]
  },
  {
   "cell_type": "markdown",
   "id": "e66669e3",
   "metadata": {},
   "source": [
    "On remarque que des lignes n'ont pas de remplissage énergétique. Pour 749 d'entre eux, il sera possible de combler la valeur d'énergie manquante par celle calculée."
   ]
  },
  {
   "cell_type": "code",
   "execution_count": 398,
   "id": "3c4fa169",
   "metadata": {},
   "outputs": [
    {
     "name": "stdout",
     "output_type": "stream",
     "text": [
      "Total nb de NaN  avant:  83565\n",
      "Total nb de NaN  après:  83565\n"
     ]
    }
   ],
   "source": [
    "# Conversion de la valeur énergétique en calories\n",
    "data['energy_kcal_100g'] = data['energy_100g'] / 4.184\n",
    "\n",
    "# 0 - créer un dictionnaire pour les coefficient (kcal/g)\n",
    "d_kcal = {'fat_100g': 9, 'carbohydrates_100g': 4, 'proteins_100g': 4,\\\n",
    "          'fiber_100g': 1.9}\n",
    "\n",
    "# 1 - empiler toutes les valeurs _100g\n",
    "data_temp = data.reset_index().melt(id_vars='index', value_vars=nut_comp_cols,\\\n",
    "                                  var_name='nutri_comp', value_name='kcal_100g')\n",
    "\n",
    "# 2 - création d'une colonne de coefficients kcal/g\n",
    "data_temp['coeff'] = (data_temp['nutri_comp'].map(d_kcal)).astype('float64')\n",
    "\n",
    "# 3 - multiplier les coeffs et _100g\n",
    "data_temp['calc_energy_kcal_100g'] = data_temp['kcal_100g'].mul(data_temp['coeff'])\n",
    "\n",
    "# 4 - appliquer les calcule pour chaque produit\n",
    "calc_en = data_temp.groupby(data_temp['index'])['calc_energy_kcal_100g'].sum()\n",
    "\n",
    "# 5 -Insertion de la nouvelle colonnes \"énergie\" dans data, réorganisation des colonnes\n",
    "data.loc[ind_all_comp_filled,'calc_energy_kcal_100g'] = calc_en\n",
    "calc_energy_cols=['calc_energy_kcal_100g']\n",
    "print(\"Total nb de NaN  avant: \", data[calc_energy_cols].isna().sum().sum())\n",
    "\n",
    "# 6 - Replacer toutes les valeurs aberrantes par des NaN (un produit ne peut pas être plus énergétique que 100g\n",
    "# de matières grasses pures, dont l'énergie pour 100g est de 900kcal)\n",
    "calc_en[~calc_en.between(0,900)] = np.nan\n",
    "print(\"Total nb de NaN  après: \", data[calc_energy_cols].isna().sum().sum())"
   ]
  },
  {
   "cell_type": "markdown",
   "id": "5455e0dc",
   "metadata": {},
   "source": [
    "**Examinons a nouveau la distribution des valeurs pour les colonnes _100g.**"
   ]
  },
  {
   "cell_type": "code",
   "execution_count": 399,
   "id": "e8fc5c49",
   "metadata": {},
   "outputs": [
    {
     "data": {
      "application/vnd.jupyter.widget-view+json": {
       "model_id": "81ef7083332847b6b83ded4178fb886c",
       "version_major": 2,
       "version_minor": 0
      },
      "text/plain": [
       "interactive(children=(IntSlider(value=460, description='xmax', max=1000, min=10, step=50), Button(description=…"
      ]
     },
     "metadata": {},
     "output_type": "display_data"
    }
   ],
   "source": [
    "X_100g_cols = data.columns[(data.columns.str.contains('_100g'))&\\\n",
    "                         ~(data.columns.str.contains('energy'))]\n",
    "\n",
    "@interact_manual\n",
    "def plot_box_xlim(xmax=(10,1000,50)):\n",
    "    data[X_100g_cols].boxplot(vert=False, figsize=(18,10))\n",
    "    plt.gca().set(xlim=(0,xmax));"
   ]
  },
  {
   "cell_type": "code",
   "execution_count": 400,
   "id": "f2e2f539",
   "metadata": {},
   "outputs": [
    {
     "data": {
      "text/plain": [
       "[(-100.0, 20000.0)]"
      ]
     },
     "execution_count": 400,
     "metadata": {},
     "output_type": "execute_result"
    },
    {
     "data": {
      "image/png": "[encoded data removed]",
      "text/plain": [
       "<Figure size 864x144 with 1 Axes>"
      ]
     },
     "metadata": {},
     "output_type": "display_data"
    }
   ],
   "source": [
    "data[energy_cols].boxplot(vert=False, figsize=(12,2));\n",
    "plt.gca().set(xlim=(-100,20000))"
   ]
  },
  {
   "cell_type": "markdown",
   "id": "a7ada292",
   "metadata": {},
   "source": [
    "**Colonnes \"nutriscore_fr\"**"
   ]
  },
  {
   "cell_type": "markdown",
   "id": "661e4d5d",
   "metadata": {},
   "source": [
    "Nutriscore should be between -15 and 40."
   ]
  },
  {
   "cell_type": "code",
   "execution_count": 401,
   "id": "a7b7fcbc",
   "metadata": {},
   "outputs": [
    {
     "name": "stdout",
     "output_type": "stream",
     "text": [
      "count    221210.000000\n",
      "mean          9.165535\n",
      "std           9.055903\n",
      "min         -15.000000\n",
      "25%           1.000000\n",
      "50%          10.000000\n",
      "75%          16.000000\n",
      "max          40.000000\n",
      "Name: nutriscore_fr, dtype: float64\n"
     ]
    },
    {
     "data": {
      "image/png": "[encoded data removed]",
      "text/plain": [
       "<Figure size 864x216 with 1 Axes>"
      ]
     },
     "metadata": {},
     "output_type": "display_data"
    }
   ],
   "source": [
    "# Vérification des valeurs aberrantes\n",
    "nut_vals = data['nutriscore_fr'].value_counts().sort_index()\n",
    "print(data['nutriscore_fr'].describe())\n",
    "nut_vals.plot.bar()\n",
    "plt.gcf().set_size_inches(12,3)"
   ]
  },
  {
   "cell_type": "markdown",
   "id": "3c0afdd9",
   "metadata": {},
   "source": [
    "toutes les valeur sont comprises entre -15 et 40"
   ]
  },
  {
   "cell_type": "markdown",
   "id": "24a56593",
   "metadata": {},
   "source": [
    "# **Traitement des valeurs manquantes:**"
   ]
  },
  {
   "cell_type": "markdown",
   "id": "e4ffba0f",
   "metadata": {},
   "source": [
    "**Colonnes \"énergie_100g\"**"
   ]
  },
  {
   "cell_type": "markdown",
   "id": "d0b690c4",
   "metadata": {},
   "source": [
    "Copier les valeurs calculées (calc_energy_kcal_100g) dans energy_kcal_100g"
   ]
  },
  {
   "cell_type": "code",
   "execution_count": 402,
   "id": "4efbf86a",
   "metadata": {},
   "outputs": [
    {
     "data": {
      "text/plain": [
       "energy_kcal_100g  calc_energy_kcal_100g\n",
       "False             False                     59464\n",
       "                  True                        749\n",
       "True              False                     24101\n",
       "                  True                     236458\n",
       "dtype: int64"
      ]
     },
     "metadata": {},
     "output_type": "display_data"
    }
   ],
   "source": [
    "# Voyons le contenu des deux dernières colonnes.\n",
    "main_energy_cols=['energy_kcal_100g', 'calc_energy_kcal_100g']\n",
    "gb = data[main_energy_cols].notna().groupby(main_energy_cols)\n",
    "display(gb.size())"
   ]
  },
  {
   "cell_type": "code",
   "execution_count": 403,
   "id": "27b702fb",
   "metadata": {},
   "outputs": [
    {
     "data": {
      "text/html": [
       "<div>\n",
       "<style scoped>\n",
       "    .dataframe tbody tr th:only-of-type {\n",
       "        vertical-align: middle;\n",
       "    }\n",
       "\n",
       "    .dataframe tbody tr th {\n",
       "        vertical-align: top;\n",
       "    }\n",
       "\n",
       "    .dataframe thead th {\n",
       "        text-align: right;\n",
       "    }\n",
       "</style>\n",
       "<table border=\"1\" class=\"dataframe\">\n",
       "  <thead>\n",
       "    <tr style=\"text-align: right;\">\n",
       "      <th></th>\n",
       "      <th>energy_kcal_100g</th>\n",
       "      <th>calc_energy_kcal_100g</th>\n",
       "    </tr>\n",
       "  </thead>\n",
       "  <tbody>\n",
       "    <tr>\n",
       "      <th>0</th>\n",
       "      <td>NaN</td>\n",
       "      <td>NaN</td>\n",
       "    </tr>\n",
       "    <tr>\n",
       "      <th>547</th>\n",
       "      <td>NaN</td>\n",
       "      <td>366.80</td>\n",
       "    </tr>\n",
       "    <tr>\n",
       "      <th>6</th>\n",
       "      <td>356.118547</td>\n",
       "      <td>NaN</td>\n",
       "    </tr>\n",
       "    <tr>\n",
       "      <th>1</th>\n",
       "      <td>536.089866</td>\n",
       "      <td>535.41</td>\n",
       "    </tr>\n",
       "  </tbody>\n",
       "</table>\n",
       "</div>"
      ],
      "text/plain": [
       "     energy_kcal_100g  calc_energy_kcal_100g\n",
       "0                 NaN                    NaN\n",
       "547               NaN                 366.80\n",
       "6          356.118547                    NaN\n",
       "1          536.089866                 535.41"
      ]
     },
     "execution_count": 403,
     "metadata": {},
     "output_type": "execute_result"
    }
   ],
   "source": [
    "# Afficher un échantillon de chaque cas\n",
    "t_ind=[]\n",
    "for n, i in gb.groups.items():\n",
    "      t_ind.append(list(data.loc[i,main_energy_cols].head(1).index))\n",
    "\n",
    "t_ind = list(np.array(t_ind).reshape(-1))\n",
    "data.loc[t_ind, main_energy_cols]"
   ]
  },
  {
   "cell_type": "code",
   "execution_count": 404,
   "id": "235b0450",
   "metadata": {},
   "outputs": [
    {
     "name": "stdout",
     "output_type": "stream",
     "text": [
      "Total nb de NaN  avant:  60213\n",
      "749 values de 'calc_energy_kcal_100g' ont été copier sur 'energy_kcal_100g'\n",
      "Total nb de NaN  après:  59464\n"
     ]
    }
   ],
   "source": [
    "energy_cols=['energy_kcal_100g']\n",
    "print(\"Total nb de NaN  avant: \", data[energy_cols].isna().sum().sum())\n",
    "\n",
    "# Copier les valeurs\n",
    "try:\n",
    "    ind = gb.get_group((False, True)).index\n",
    "    data.loc[ind,'energy_kcal_100g'] = data.loc[ind,'calc_energy_kcal_100g']\n",
    "    print(f\"{len(ind)} values de 'calc_energy_kcal_100g' ont été copier sur 'energy_kcal_100g'\")\n",
    "    print(\"Total nb de NaN  après: \", data[energy_cols].isna().sum().sum())\n",
    "except:\n",
    "    print(\"!!!: check out : this group may not exist\")\n",
    "    "
   ]
  },
  {
   "cell_type": "markdown",
   "id": "6c33a148",
   "metadata": {},
   "source": [
    "**Remplacer le reste des valeurs manquantes par la moyenne**"
   ]
  },
  {
   "cell_type": "code",
   "execution_count": 405,
   "id": "6d7e48b4",
   "metadata": {},
   "outputs": [],
   "source": [
    "data['energy_kcal_100g'] = data['energy_kcal_100g'].fillna(data['energy_kcal_100g'].mean())"
   ]
  },
  {
   "cell_type": "markdown",
   "id": "533dcdae",
   "metadata": {},
   "source": [
    "**Colonnes salt_100g**"
   ]
  },
  {
   "cell_type": "code",
   "execution_count": 406,
   "id": "fb330d8c",
   "metadata": {},
   "outputs": [
    {
     "name": "stdout",
     "output_type": "stream",
     "text": [
      "Corrélation entre 'salt_100g' et 'sodium_100g': 0.9999999972140002\n"
     ]
    },
    {
     "data": {
      "image/png": "[encoded data removed]",
      "text/plain": [
       "<Figure size 432x288 with 1 Axes>"
      ]
     },
     "metadata": {},
     "output_type": "display_data"
    }
   ],
   "source": [
    "print(f\"Corrélation entre 'salt_100g' et 'sodium_100g': {data['salt_100g'].corr(data['sodium_100g'])}\")\n",
    "\n",
    "plt.title('Vérification de la proportionnalité entre le sel et le sodium')\n",
    "plt.scatter(data['salt_100g'], data['sodium_100g'], color='orange', label='Données réelles')\n",
    "plt.plot(data['salt_100g'], data['salt_100g'] / 2.54, color='black', label='Droite théorique')\n",
    "plt.xlabel('Salt_100g')\n",
    "plt.ylabel('Sodium_100g')\n",
    "plt.legend(loc='lower right')\n",
    "plt.show()\n"
   ]
  },
  {
   "cell_type": "markdown",
   "id": "e0c59771",
   "metadata": {},
   "source": [
    "Le sel contient 38,7% de sodium. Les valeurs de 'sodium_100g' doivent donc être supérieures à 0,387 fois celles de 'salt_100g'. Nous remplaçons la valeur de la colonne de sel  par la valeur de la colonne de sodium/0,387 Lorsque elle n'est pas renseigné."
   ]
  },
  {
   "cell_type": "code",
   "execution_count": 407,
   "id": "751f5f9d",
   "metadata": {},
   "outputs": [
    {
     "data": {
      "text/plain": [
       "salt_100g  sodium_100g\n",
       "False      False           65296\n",
       "           True             4581\n",
       "True       False              47\n",
       "           True           250848\n",
       "dtype: int64"
      ]
     },
     "metadata": {},
     "output_type": "display_data"
    }
   ],
   "source": [
    "# Voyons le contenu des deux colonnes salt_100g et sodium_100g .\n",
    "main_salt_cols=['salt_100g', 'sodium_100g']\n",
    "gb = data[main_salt_cols].notna().groupby(main_salt_cols)\n",
    "display(gb.size())"
   ]
  },
  {
   "cell_type": "code",
   "execution_count": 408,
   "id": "0a61acc6",
   "metadata": {},
   "outputs": [
    {
     "name": "stdout",
     "output_type": "stream",
     "text": [
      "Total nb de NaN  avant:  69877\n",
      "!!!: check out : this group may not exist\n"
     ]
    },
    {
     "name": "stderr",
     "output_type": "stream",
     "text": [
      "/Users/soraya/opt/anaconda3/lib/python3.9/site-packages/numpy/core/fromnumeric.py:3162: VisibleDeprecationWarning: Creating an ndarray from ragged nested sequences (which is a list-or-tuple of lists-or-tuples-or ndarrays with different lengths or shapes) is deprecated. If you meant to do this, you must specify 'dtype=object' when creating the ndarray.\n",
      "  return asarray(a).ndim\n"
     ]
    }
   ],
   "source": [
    "salt_cols=['salt_100g']\n",
    "print(\"Total nb de NaN  avant: \", data[salt_cols].isna().sum().sum())\n",
    "\n",
    "# Copier les valeurs\n",
    "try:\n",
    "    ind = gb.get_group((False, True)).index\n",
    "    data.loc[ind,'salt_100g'] = data.loc[ind,'sodium_100g']/ 0,387\n",
    "    print(f\"{len(ind)} values de 'sodium_100g' ont été copier sur 'salt_100g'\")\n",
    "    print(\"Total nb de NaN  après: \", data[salt_cols].isna().sum().sum())\n",
    "except:\n",
    "    print(\"!!!: check out : this group may not exist\")\n",
    "    "
   ]
  },
  {
   "cell_type": "markdown",
   "id": "564876a4",
   "metadata": {},
   "source": [
    "**Remplacer le reste des valeurs manquantes par la médiane de la catégorie Salty snacks**"
   ]
  },
  {
   "cell_type": "code",
   "execution_count": 409,
   "id": "d9a7772f",
   "metadata": {},
   "outputs": [
    {
     "data": {
      "text/plain": [
       "pnns1\n",
       "Beverages                  0.010000\n",
       "Cereals and potatoes       0.430000\n",
       "Composite foods            0.930000\n",
       "Fat and sauces             1.270000\n",
       "Fish Meat Eggs             1.750060\n",
       "Fruits and vegetables      0.104332\n",
       "Milk and dairy products    0.152400\n",
       "Salty snacks               1.422400\n",
       "Sugary snacks              0.230000\n",
       "unknown                    0.600000\n",
       "Name: salt_100g, dtype: float64"
      ]
     },
     "execution_count": 409,
     "metadata": {},
     "output_type": "execute_result"
    }
   ],
   "source": [
    "data.groupby(['pnns1'])['salt_100g'].median()"
   ]
  },
  {
   "cell_type": "code",
   "execution_count": 410,
   "id": "6c583d53",
   "metadata": {},
   "outputs": [],
   "source": [
    "data['salt_100g']=data['salt_100g'].fillna(1.422400)"
   ]
  },
  {
   "cell_type": "markdown",
   "id": "cdb389bb",
   "metadata": {},
   "source": [
    "**proteins_100g**"
   ]
  },
  {
   "cell_type": "markdown",
   "id": "14f42774",
   "metadata": {},
   "source": [
    "**Remplacer les valeurs manquantes par la moyenne**"
   ]
  },
  {
   "cell_type": "code",
   "execution_count": 411,
   "id": "b81d3395",
   "metadata": {},
   "outputs": [],
   "source": [
    "data['proteins_100g'] = data['proteins_100g'].fillna(data['proteins_100g'].mean())"
   ]
  },
  {
   "cell_type": "markdown",
   "id": "c0411f83",
   "metadata": {},
   "source": [
    "**carbohydrates_100g**"
   ]
  },
  {
   "cell_type": "code",
   "execution_count": 412,
   "id": "cb407694",
   "metadata": {},
   "outputs": [
    {
     "data": {
      "text/plain": [
       "carbohydrates_100g  sugars_100g  fiber_100g\n",
       "False               False        False          59929\n",
       "                                 True              85\n",
       "                    True         False            631\n",
       "                                 True           21030\n",
       "True                False        False          29398\n",
       "                                 True            1730\n",
       "                    True         False          45255\n",
       "                                 True          162714\n",
       "dtype: int64"
      ]
     },
     "metadata": {},
     "output_type": "display_data"
    }
   ],
   "source": [
    "# Voyons le contenu des colonnes carbohydrates_100g,sugars_100g et fiber_100g.\n",
    "main_carbohydrates_cols=['carbohydrates_100g','sugars_100g', 'fiber_100g']\n",
    "gb = data[main_carbohydrates_cols].notna().groupby(main_carbohydrates_cols)\n",
    "display(gb.size())"
   ]
  },
  {
   "cell_type": "code",
   "execution_count": 413,
   "id": "d5be0c03",
   "metadata": {},
   "outputs": [
    {
     "name": "stdout",
     "output_type": "stream",
     "text": [
      "Total nb de NaN  avant:  81675\n",
      "21030 values from 'sugars_100g'+'fiber_100g'' successfully copied to 'carbohydrates_100g'\n",
      "Total nb de NaN  après:  60645\n"
     ]
    }
   ],
   "source": [
    "carbohydrates_cols=['carbohydrates_100g']\n",
    "\n",
    "print(\"Total nb de NaN  avant: \", data[carbohydrates_cols].isna().sum().sum())\n",
    "\n",
    "# 'sugars_100g' and 'fiber_100g' sont remplie\n",
    "try:\n",
    "    ind = gb.get_group((False, True, True)).index\n",
    "    data.loc[ind,'carbohydrates_100g'] = data.loc[ind,'fiber_100g'] + data.loc[ind,'sugars_100g']\n",
    "    print(f\"{len(ind)} values from 'sugars_100g'+'fiber_100g'' successfully copied to 'carbohydrates_100g'\")\n",
    "    \n",
    "    print(\"Total nb de NaN  après: \", data[carbohydrates_cols].isna().sum().sum())\n",
    "except:\n",
    "    print(\"!!!: check out : this group may not exist\")"
   ]
  },
  {
   "cell_type": "code",
   "execution_count": 414,
   "id": "92a9ab67",
   "metadata": {},
   "outputs": [
    {
     "name": "stdout",
     "output_type": "stream",
     "text": [
      "Total nb de NaN  avant:  60645\n",
      "631 values from 'sugars_100g' successfully copied to 'carbohydrates_100g'\n",
      "Total nb de NaN  après:  60014\n"
     ]
    }
   ],
   "source": [
    "print(\"Total nb de NaN  avant: \", data[carbohydrates_cols].isna().sum().sum())\n",
    "\n",
    "# seulement 'sugars_100g' est remplie\n",
    "try:\n",
    "    ind = gb.get_group((False, True, False)).index\n",
    "    data.loc[ind,'carbohydrates_100g'] = data.loc[ind,'sugars_100g']\n",
    "    print(f\"{len(ind)} values from 'sugars_100g' successfully copied to 'carbohydrates_100g'\")\n",
    "    \n",
    "    print(\"Total nb de NaN  après: \", data[carbohydrates_cols].isna().sum().sum())\n",
    "except:\n",
    "    print(\"!!!: check out : this group may not exist\")"
   ]
  },
  {
   "cell_type": "markdown",
   "id": "97cc1b27",
   "metadata": {},
   "source": [
    "**Remplacer le reste des valeurs manquantes par la médiane de la catégorie Sugary snacks**"
   ]
  },
  {
   "cell_type": "code",
   "execution_count": 415,
   "id": "e459cf99",
   "metadata": {},
   "outputs": [
    {
     "data": {
      "text/plain": [
       "pnns1\n",
       "Beverages                   9.8\n",
       "Cereals and potatoes       63.0\n",
       "Composite foods            13.2\n",
       "Fat and sauces              4.6\n",
       "Fish Meat Eggs              0.9\n",
       "Fruits and vegetables       7.2\n",
       "Milk and dairy products     4.8\n",
       "Salty snacks               51.0\n",
       "Sugary snacks              58.0\n",
       "unknown                    18.8\n",
       "Name: carbohydrates_100g, dtype: float64"
      ]
     },
     "execution_count": 415,
     "metadata": {},
     "output_type": "execute_result"
    }
   ],
   "source": [
    "data.groupby(['pnns1'])['carbohydrates_100g'].median()"
   ]
  },
  {
   "cell_type": "code",
   "execution_count": 416,
   "id": "3ccbad18",
   "metadata": {},
   "outputs": [],
   "source": [
    "data[\"carbohydrates_100g\"]=data[\"carbohydrates_100g\"].fillna(58.0)"
   ]
  },
  {
   "cell_type": "markdown",
   "id": "a109b0eb",
   "metadata": {},
   "source": [
    "**fiber_100g**"
   ]
  },
  {
   "cell_type": "code",
   "execution_count": 417,
   "id": "9879c063",
   "metadata": {},
   "outputs": [],
   "source": [
    "data['fiber_100g'] = data['fiber_100g'].fillna(0)"
   ]
  },
  {
   "cell_type": "markdown",
   "id": "f904fb69",
   "metadata": {},
   "source": [
    "**fat_100g**"
   ]
  },
  {
   "cell_type": "code",
   "execution_count": 418,
   "id": "3e43617b",
   "metadata": {},
   "outputs": [
    {
     "data": {
      "text/plain": [
       "fat_100g  saturated-fat_100g  trans-fat_100g  cholesterol_100g\n",
       "False     False               False           False                59797\n",
       "                                              True                    27\n",
       "                              True            False                   92\n",
       "                                              True                    21\n",
       "          True                False           False                17427\n",
       "                                              True                   145\n",
       "                              True            False                   80\n",
       "                                              True                  3770\n",
       "True      False               False           False                27596\n",
       "                                              True                  1063\n",
       "                              True            False                 2269\n",
       "                                              True                   356\n",
       "          True                False           False                68909\n",
       "                                              True                  4447\n",
       "                              True            False                 2633\n",
       "                                              True                132140\n",
       "dtype: int64"
      ]
     },
     "metadata": {},
     "output_type": "display_data"
    }
   ],
   "source": [
    "# Voyons le contenu des colonnes fat_100g,saturated-fat_100g, trans-fat_100g et cholesterol_100g.\n",
    "main_fat_cols=['fat_100g','saturated-fat_100g', 'trans-fat_100g', 'cholesterol_100g']\n",
    "gb = data[main_fat_cols].notna().groupby(main_fat_cols)\n",
    "display(gb.size())"
   ]
  },
  {
   "cell_type": "code",
   "execution_count": 419,
   "id": "133daccb",
   "metadata": {},
   "outputs": [
    {
     "name": "stdout",
     "output_type": "stream",
     "text": [
      "Total nb de NaN  avant:  81359\n",
      "17427 values from 'saturated-fat_100g' copied to 'fat_100g'\n",
      "Total nb de NaN  après: 63932\n"
     ]
    }
   ],
   "source": [
    "fat_cols=['fat_100g']\n",
    "print(\"Total nb de NaN  avant: \", data[fat_cols].isna().sum().sum())\n",
    "\n",
    "# seulemnt 'saturated-fat_100g' est remplie\n",
    "try:\n",
    "    ind = gb.get_group(( False, True, False, False)).index\n",
    "    data.loc[ind,'fat_100g'] = data.loc[ind,'saturated-fat_100g']\n",
    "    print(f\"{len(ind)} values from 'saturated-fat_100g' copied to 'fat_100g'\")\n",
    "    print(\"Total nb de NaN  après:\", data[fat_cols].isna().sum().sum())\n",
    "except:\n",
    "    print(\"!!!: check out : this group may not exist\")"
   ]
  },
  {
   "cell_type": "code",
   "execution_count": 420,
   "id": "fbb3b66e",
   "metadata": {},
   "outputs": [
    {
     "name": "stdout",
     "output_type": "stream",
     "text": [
      "Total nb de NaN  avant:  63932\n",
      "145 values from 'saturated-fat_100g'+'cholesterol_100g'' successfully copied to 'fat_100g'\n",
      "Total nb de NaN  après:  63787\n"
     ]
    }
   ],
   "source": [
    "print(\"Total nb de NaN  avant: \", data[fat_cols].isna().sum().sum())\n",
    "\n",
    "# 'saturated-fat_100g' et 'cholesterol_100g' sont remplie\n",
    "try:\n",
    "    ind = gb.get_group((False, True, False, True)).index\n",
    "    data.loc[ind,'fat_100g'] = data.loc[ind,'saturated-fat_100g'] + data.loc[ind,'cholesterol_100g']\n",
    "    print(f\"{len(ind)} values from 'saturated-fat_100g'+'cholesterol_100g'' successfully copied to 'fat_100g'\")\n",
    "    \n",
    "    print(\"Total nb de NaN  après: \", data[fat_cols].isna().sum().sum())\n",
    "except:\n",
    "    print(\"!!!: check out : this group may not exist\")"
   ]
  },
  {
   "cell_type": "code",
   "execution_count": 421,
   "id": "69a40b13",
   "metadata": {
    "scrolled": true
   },
   "outputs": [
    {
     "name": "stdout",
     "output_type": "stream",
     "text": [
      "Total nb de NaN  avant:  63787\n",
      "80 values from 'saturated-fat_100g'+'trans-fat_100g'' successfully copied to 'fat_100g'\n",
      "Total nb de NaN  après:  63707\n"
     ]
    }
   ],
   "source": [
    "print(\"Total nb de NaN  avant: \", data[fat_cols].isna().sum().sum())\n",
    "\n",
    "# 'saturated-fat_100g' et 'trans-fat_100g' sont remplie\n",
    "try:\n",
    "    ind = gb.get_group((False, True, True, False)).index\n",
    "    data.loc[ind,'fat_100g'] = data.loc[ind,'saturated-fat_100g'] + data.loc[ind,'trans-fat_100g']\n",
    "    print(f\"{len(ind)} values from 'saturated-fat_100g'+'trans-fat_100g'' successfully copied to 'fat_100g'\")\n",
    "    \n",
    "    print(\"Total nb de NaN  après: \", data[fat_cols].isna().sum().sum())\n",
    "except:\n",
    "    print(\"!!!: check out : this group may not exist\")"
   ]
  },
  {
   "cell_type": "code",
   "execution_count": 422,
   "id": "b96dc61b",
   "metadata": {},
   "outputs": [
    {
     "name": "stdout",
     "output_type": "stream",
     "text": [
      "Total nb de NaN  avant:  63707\n",
      "3770 values from 'saturated-fat_100g'+'trans-fat_100g'+'cholesterol_100g' successfully copied to 'fat_100g'\n",
      "Total nb de NaN  après:  59937\n"
     ]
    }
   ],
   "source": [
    "print(\"Total nb de NaN  avant: \", data[fat_cols].isna().sum().sum())\n",
    "\n",
    "# 'saturated-fat_100g' et 'trans-fat_100g' sont remplie\n",
    "try:\n",
    "    ind = gb.get_group((False, True, True, True)).index\n",
    "    data.loc[ind,'fat_100g'] = data.loc[ind,'saturated-fat_100g'] + data.loc[ind,'trans-fat_100g']+ data.loc[ind,'cholesterol_100g']\n",
    "    print(f\"{len(ind)} values from 'saturated-fat_100g'+'trans-fat_100g'+'cholesterol_100g' successfully copied to 'fat_100g'\")\n",
    "    \n",
    "    print(\"Total nb de NaN  après: \", data[fat_cols].isna().sum().sum())\n",
    "except:\n",
    "    print(\"!!!: check out : this group may not exist\")"
   ]
  },
  {
   "cell_type": "markdown",
   "id": "5a2016ce",
   "metadata": {},
   "source": [
    "**Remplacer le reste des valeurs manquantes par la médiane de la catégorie Fat and sauces**"
   ]
  },
  {
   "cell_type": "code",
   "execution_count": 423,
   "id": "958b7c1b",
   "metadata": {},
   "outputs": [
    {
     "data": {
      "text/plain": [
       "pnns1\n",
       "Beverages                   0.00\n",
       "Cereals and potatoes        2.70\n",
       "Composite foods             6.50\n",
       "Fat and sauces             25.20\n",
       "Fish Meat Eggs             11.00\n",
       "Fruits and vegetables       0.40\n",
       "Milk and dairy products    10.00\n",
       "Salty snacks               29.45\n",
       "Sugary snacks              20.80\n",
       "unknown                     7.00\n",
       "Name: fat_100g, dtype: float64"
      ]
     },
     "execution_count": 423,
     "metadata": {},
     "output_type": "execute_result"
    }
   ],
   "source": [
    "data.groupby(['pnns1'])['fat_100g'].median()"
   ]
  },
  {
   "cell_type": "code",
   "execution_count": 424,
   "id": "709dbcf2",
   "metadata": {},
   "outputs": [],
   "source": [
    "data[\"fat_100g\"]=data[\"fat_100g\"].fillna(25.20)"
   ]
  },
  {
   "cell_type": "markdown",
   "id": "a932c26e",
   "metadata": {},
   "source": [
    "**saturated_fat_100g et sugars_100g**"
   ]
  },
  {
   "cell_type": "markdown",
   "id": "399fa325",
   "metadata": {},
   "source": [
    "supprimons les lignes avec des NAN au niveau de saturated_fat_100g et sugars_100g car, les remplacer par la médiane, la moyenne ou zero représente un risque considerable pour les personnes souffrants de certaines maladies comme le diabète ."
   ]
  },
  {
   "cell_type": "code",
   "execution_count": 425,
   "id": "a9991763",
   "metadata": {},
   "outputs": [],
   "source": [
    "data=data.dropna(subset=['saturated-fat_100g','sugars_100g'])\n"
   ]
  },
  {
   "cell_type": "markdown",
   "id": "70cd7d22",
   "metadata": {},
   "source": [
    "**Suppression des lignes inopérantes**"
   ]
  },
  {
   "cell_type": "code",
   "execution_count": 426,
   "id": "1db1da08",
   "metadata": {},
   "outputs": [],
   "source": [
    "# Suppression des colonnes qui ne seront plus utilisées\n",
    "data = data.drop(columns=['sodium_100g', 'trans-fat_100g', 'cholesterol_100g','calc_energy_kcal_100g','energy_100g'])"
   ]
  },
  {
   "cell_type": "markdown",
   "id": "cc0ce87b",
   "metadata": {},
   "source": [
    "**Valeur manquantes**"
   ]
  },
  {
   "cell_type": "code",
   "execution_count": 427,
   "id": "5a020f2f",
   "metadata": {},
   "outputs": [
    {
     "data": {
      "text/plain": [
       "product_name            2350\n",
       "brands                  4093\n",
       "nutrition_grade_fr      1965\n",
       "pnns1                 153873\n",
       "nutriscore_fr           1965\n",
       "fat_100g                   0\n",
       "saturated-fat_100g         0\n",
       "carbohydrates_100g         0\n",
       "sugars_100g                0\n",
       "fiber_100g                 0\n",
       "proteins_100g              0\n",
       "salt_100g                  0\n",
       "energy_kcal_100g           0\n",
       "dtype: int64"
      ]
     },
     "execution_count": 427,
     "metadata": {},
     "output_type": "execute_result"
    }
   ],
   "source": [
    "data.isnull().sum() "
   ]
  },
  {
   "cell_type": "code",
   "execution_count": 428,
   "id": "e613141e",
   "metadata": {},
   "outputs": [
    {
     "data": {
      "image/png": "[encoded data removed]",
      "text/plain": [
       "<Figure size 1152x864 with 2 Axes>"
      ]
     },
     "metadata": {},
     "output_type": "display_data"
    }
   ],
   "source": [
    "fig, (ax1, ax2) = plt.subplots(nrows=1, ncols=2, figsize=(16, 12))\n",
    "fig.suptitle(\"Proportion de NaN dans chaque colonne (%)\", size=30)\n",
    "\n",
    "count = data.isnull().mean(axis=0)\n",
    "ax1.barh(y=count[:80].index, width=count[:80].values, color='#FB9A99', alpha=0.5)\n",
    "ax1.axvline(x=0.6)\n",
    "ax2.barh(y=count[80:].index, width=count[80:].values, color='#FB9A99', alpha=0.5)\n",
    "ax2.axvline(x=0.6)\n",
    "\n",
    "plt.tight_layout(w_pad=0,pad=5)\n",
    "plt.show()"
   ]
  },
  {
   "cell_type": "code",
   "execution_count": 429,
   "id": "d977c83a",
   "metadata": {},
   "outputs": [
    {
     "name": "stdout",
     "output_type": "stream",
     "text": [
      "(208494, 13)\n",
      "nb of null:  164246 \n",
      "pct of null:  6.1\n"
     ]
    }
   ],
   "source": [
    "print(data.shape)\n",
    "print_null_pct(data)"
   ]
  },
  {
   "cell_type": "markdown",
   "id": "12234308",
   "metadata": {},
   "source": [
    "# Sauvegarde du dataset cleané"
   ]
  },
  {
   "cell_type": "code",
   "execution_count": 430,
   "id": "fd535521",
   "metadata": {},
   "outputs": [],
   "source": [
    "data.to_csv('data.csv', index=False)"
   ]
  }
 ],
 "metadata": {
  "kernelspec": {
   "display_name": "Python 3 (ipykernel)",
   "language": "python",
   "name": "python3"
  },
  "language_info": {
   "codemirror_mode": {
    "name": "ipython",
    "version": 3
   },
   "file_extension": ".py",
   "mimetype": "text/x-python",
   "name": "python",
   "nbconvert_exporter": "python",
   "pygments_lexer": "ipython3",
   "version": "3.9.12"
  }
 },
 "nbformat": 4,
 "nbformat_minor": 5
}
